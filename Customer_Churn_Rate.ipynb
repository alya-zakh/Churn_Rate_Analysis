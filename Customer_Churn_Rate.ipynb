{
  "cells": [
    {
      "cell_type": "markdown",
      "metadata": {
        "id": "SWW7I3I5nbXU"
      },
      "source": [
        "**Dataset \"Customer Churn Rate\"**\n",
        "URL: https://www.kaggle.com/datasets/divu2001/customer-churn-rate?https%3A%2F%2Fwww.kaggle.com%2Fdatasets%2Fdivu2001%2Fcustomer-churn-rate%3Fresource=downloadresource%3Ddownload\n"
      ]
    },
    {
      "cell_type": "markdown",
      "source": [
        "**Часть 1**"
      ],
      "metadata": {
        "id": "d8bQoUNBddhm"
      }
    },
    {
      "cell_type": "code",
      "execution_count": null,
      "metadata": {
        "id": "q8T-FCpx_p1j"
      },
      "outputs": [],
      "source": [
        "import numpy as np\n",
        "import pandas as pd\n",
        "import matplotlib.pyplot as plt\n",
        "import seaborn as sns"
      ]
    },
    {
      "cell_type": "code",
      "execution_count": null,
      "metadata": {
        "id": "8siizkNQ_8_d"
      },
      "outputs": [],
      "source": [
        "data = pd.read_csv('Churn_Modelling.csv')"
      ]
    },
    {
      "cell_type": "code",
      "execution_count": null,
      "metadata": {
        "colab": {
          "base_uri": "https://localhost:8080/",
          "height": 363
        },
        "id": "PZ3CJFhMBm_F",
        "outputId": "5d730d99-69d4-4d05-f896-0353867c73d2"
      },
      "outputs": [
        {
          "output_type": "execute_result",
          "data": {
            "text/plain": [
              "   RowNumber  CustomerId   Surname  CreditScore Geography  Gender  Age  \\\n",
              "0          1    15634602  Hargrave          619    France  Female   42   \n",
              "1          2    15647311      Hill          608     Spain  Female   41   \n",
              "2          3    15619304      Onio          502    France  Female   42   \n",
              "3          4    15701354      Boni          699    France  Female   39   \n",
              "4          5    15737888  Mitchell          850     Spain  Female   43   \n",
              "5          6    15574012       Chu          645     Spain    Male   44   \n",
              "6          7    15592531  Bartlett          822    France    Male   50   \n",
              "7          8    15656148    Obinna          376   Germany  Female   29   \n",
              "8          9    15792365        He          501    France    Male   44   \n",
              "9         10    15592389        H?          684    France    Male   27   \n",
              "\n",
              "   Tenure    Balance  NumOfProducts  HasCrCard  IsActiveMember  \\\n",
              "0       2       0.00              1          1               1   \n",
              "1       1   83807.86              1          0               1   \n",
              "2       8  159660.80              3          1               0   \n",
              "3       1       0.00              2          0               0   \n",
              "4       2  125510.82              1          1               1   \n",
              "5       8  113755.78              2          1               0   \n",
              "6       7       0.00              2          1               1   \n",
              "7       4  115046.74              4          1               0   \n",
              "8       4  142051.07              2          0               1   \n",
              "9       2  134603.88              1          1               1   \n",
              "\n",
              "   EstimatedSalary  Exited  \n",
              "0        101348.88       1  \n",
              "1        112542.58       0  \n",
              "2        113931.57       1  \n",
              "3         93826.63       0  \n",
              "4         79084.10       0  \n",
              "5        149756.71       1  \n",
              "6         10062.80       0  \n",
              "7        119346.88       1  \n",
              "8         74940.50       0  \n",
              "9         71725.73       0  "
            ],
            "text/html": [
              "\n",
              "  <div id=\"df-96332994-608a-4c2c-bf11-03b6add88439\" class=\"colab-df-container\">\n",
              "    <div>\n",
              "<style scoped>\n",
              "    .dataframe tbody tr th:only-of-type {\n",
              "        vertical-align: middle;\n",
              "    }\n",
              "\n",
              "    .dataframe tbody tr th {\n",
              "        vertical-align: top;\n",
              "    }\n",
              "\n",
              "    .dataframe thead th {\n",
              "        text-align: right;\n",
              "    }\n",
              "</style>\n",
              "<table border=\"1\" class=\"dataframe\">\n",
              "  <thead>\n",
              "    <tr style=\"text-align: right;\">\n",
              "      <th></th>\n",
              "      <th>RowNumber</th>\n",
              "      <th>CustomerId</th>\n",
              "      <th>Surname</th>\n",
              "      <th>CreditScore</th>\n",
              "      <th>Geography</th>\n",
              "      <th>Gender</th>\n",
              "      <th>Age</th>\n",
              "      <th>Tenure</th>\n",
              "      <th>Balance</th>\n",
              "      <th>NumOfProducts</th>\n",
              "      <th>HasCrCard</th>\n",
              "      <th>IsActiveMember</th>\n",
              "      <th>EstimatedSalary</th>\n",
              "      <th>Exited</th>\n",
              "    </tr>\n",
              "  </thead>\n",
              "  <tbody>\n",
              "    <tr>\n",
              "      <th>0</th>\n",
              "      <td>1</td>\n",
              "      <td>15634602</td>\n",
              "      <td>Hargrave</td>\n",
              "      <td>619</td>\n",
              "      <td>France</td>\n",
              "      <td>Female</td>\n",
              "      <td>42</td>\n",
              "      <td>2</td>\n",
              "      <td>0.00</td>\n",
              "      <td>1</td>\n",
              "      <td>1</td>\n",
              "      <td>1</td>\n",
              "      <td>101348.88</td>\n",
              "      <td>1</td>\n",
              "    </tr>\n",
              "    <tr>\n",
              "      <th>1</th>\n",
              "      <td>2</td>\n",
              "      <td>15647311</td>\n",
              "      <td>Hill</td>\n",
              "      <td>608</td>\n",
              "      <td>Spain</td>\n",
              "      <td>Female</td>\n",
              "      <td>41</td>\n",
              "      <td>1</td>\n",
              "      <td>83807.86</td>\n",
              "      <td>1</td>\n",
              "      <td>0</td>\n",
              "      <td>1</td>\n",
              "      <td>112542.58</td>\n",
              "      <td>0</td>\n",
              "    </tr>\n",
              "    <tr>\n",
              "      <th>2</th>\n",
              "      <td>3</td>\n",
              "      <td>15619304</td>\n",
              "      <td>Onio</td>\n",
              "      <td>502</td>\n",
              "      <td>France</td>\n",
              "      <td>Female</td>\n",
              "      <td>42</td>\n",
              "      <td>8</td>\n",
              "      <td>159660.80</td>\n",
              "      <td>3</td>\n",
              "      <td>1</td>\n",
              "      <td>0</td>\n",
              "      <td>113931.57</td>\n",
              "      <td>1</td>\n",
              "    </tr>\n",
              "    <tr>\n",
              "      <th>3</th>\n",
              "      <td>4</td>\n",
              "      <td>15701354</td>\n",
              "      <td>Boni</td>\n",
              "      <td>699</td>\n",
              "      <td>France</td>\n",
              "      <td>Female</td>\n",
              "      <td>39</td>\n",
              "      <td>1</td>\n",
              "      <td>0.00</td>\n",
              "      <td>2</td>\n",
              "      <td>0</td>\n",
              "      <td>0</td>\n",
              "      <td>93826.63</td>\n",
              "      <td>0</td>\n",
              "    </tr>\n",
              "    <tr>\n",
              "      <th>4</th>\n",
              "      <td>5</td>\n",
              "      <td>15737888</td>\n",
              "      <td>Mitchell</td>\n",
              "      <td>850</td>\n",
              "      <td>Spain</td>\n",
              "      <td>Female</td>\n",
              "      <td>43</td>\n",
              "      <td>2</td>\n",
              "      <td>125510.82</td>\n",
              "      <td>1</td>\n",
              "      <td>1</td>\n",
              "      <td>1</td>\n",
              "      <td>79084.10</td>\n",
              "      <td>0</td>\n",
              "    </tr>\n",
              "    <tr>\n",
              "      <th>5</th>\n",
              "      <td>6</td>\n",
              "      <td>15574012</td>\n",
              "      <td>Chu</td>\n",
              "      <td>645</td>\n",
              "      <td>Spain</td>\n",
              "      <td>Male</td>\n",
              "      <td>44</td>\n",
              "      <td>8</td>\n",
              "      <td>113755.78</td>\n",
              "      <td>2</td>\n",
              "      <td>1</td>\n",
              "      <td>0</td>\n",
              "      <td>149756.71</td>\n",
              "      <td>1</td>\n",
              "    </tr>\n",
              "    <tr>\n",
              "      <th>6</th>\n",
              "      <td>7</td>\n",
              "      <td>15592531</td>\n",
              "      <td>Bartlett</td>\n",
              "      <td>822</td>\n",
              "      <td>France</td>\n",
              "      <td>Male</td>\n",
              "      <td>50</td>\n",
              "      <td>7</td>\n",
              "      <td>0.00</td>\n",
              "      <td>2</td>\n",
              "      <td>1</td>\n",
              "      <td>1</td>\n",
              "      <td>10062.80</td>\n",
              "      <td>0</td>\n",
              "    </tr>\n",
              "    <tr>\n",
              "      <th>7</th>\n",
              "      <td>8</td>\n",
              "      <td>15656148</td>\n",
              "      <td>Obinna</td>\n",
              "      <td>376</td>\n",
              "      <td>Germany</td>\n",
              "      <td>Female</td>\n",
              "      <td>29</td>\n",
              "      <td>4</td>\n",
              "      <td>115046.74</td>\n",
              "      <td>4</td>\n",
              "      <td>1</td>\n",
              "      <td>0</td>\n",
              "      <td>119346.88</td>\n",
              "      <td>1</td>\n",
              "    </tr>\n",
              "    <tr>\n",
              "      <th>8</th>\n",
              "      <td>9</td>\n",
              "      <td>15792365</td>\n",
              "      <td>He</td>\n",
              "      <td>501</td>\n",
              "      <td>France</td>\n",
              "      <td>Male</td>\n",
              "      <td>44</td>\n",
              "      <td>4</td>\n",
              "      <td>142051.07</td>\n",
              "      <td>2</td>\n",
              "      <td>0</td>\n",
              "      <td>1</td>\n",
              "      <td>74940.50</td>\n",
              "      <td>0</td>\n",
              "    </tr>\n",
              "    <tr>\n",
              "      <th>9</th>\n",
              "      <td>10</td>\n",
              "      <td>15592389</td>\n",
              "      <td>H?</td>\n",
              "      <td>684</td>\n",
              "      <td>France</td>\n",
              "      <td>Male</td>\n",
              "      <td>27</td>\n",
              "      <td>2</td>\n",
              "      <td>134603.88</td>\n",
              "      <td>1</td>\n",
              "      <td>1</td>\n",
              "      <td>1</td>\n",
              "      <td>71725.73</td>\n",
              "      <td>0</td>\n",
              "    </tr>\n",
              "  </tbody>\n",
              "</table>\n",
              "</div>\n",
              "    <div class=\"colab-df-buttons\">\n",
              "\n",
              "  <div class=\"colab-df-container\">\n",
              "    <button class=\"colab-df-convert\" onclick=\"convertToInteractive('df-96332994-608a-4c2c-bf11-03b6add88439')\"\n",
              "            title=\"Convert this dataframe to an interactive table.\"\n",
              "            style=\"display:none;\">\n",
              "\n",
              "  <svg xmlns=\"http://www.w3.org/2000/svg\" height=\"24px\" viewBox=\"0 -960 960 960\">\n",
              "    <path d=\"M120-120v-720h720v720H120Zm60-500h600v-160H180v160Zm220 220h160v-160H400v160Zm0 220h160v-160H400v160ZM180-400h160v-160H180v160Zm440 0h160v-160H620v160ZM180-180h160v-160H180v160Zm440 0h160v-160H620v160Z\"/>\n",
              "  </svg>\n",
              "    </button>\n",
              "\n",
              "  <style>\n",
              "    .colab-df-container {\n",
              "      display:flex;\n",
              "      gap: 12px;\n",
              "    }\n",
              "\n",
              "    .colab-df-convert {\n",
              "      background-color: #E8F0FE;\n",
              "      border: none;\n",
              "      border-radius: 50%;\n",
              "      cursor: pointer;\n",
              "      display: none;\n",
              "      fill: #1967D2;\n",
              "      height: 32px;\n",
              "      padding: 0 0 0 0;\n",
              "      width: 32px;\n",
              "    }\n",
              "\n",
              "    .colab-df-convert:hover {\n",
              "      background-color: #E2EBFA;\n",
              "      box-shadow: 0px 1px 2px rgba(60, 64, 67, 0.3), 0px 1px 3px 1px rgba(60, 64, 67, 0.15);\n",
              "      fill: #174EA6;\n",
              "    }\n",
              "\n",
              "    .colab-df-buttons div {\n",
              "      margin-bottom: 4px;\n",
              "    }\n",
              "\n",
              "    [theme=dark] .colab-df-convert {\n",
              "      background-color: #3B4455;\n",
              "      fill: #D2E3FC;\n",
              "    }\n",
              "\n",
              "    [theme=dark] .colab-df-convert:hover {\n",
              "      background-color: #434B5C;\n",
              "      box-shadow: 0px 1px 3px 1px rgba(0, 0, 0, 0.15);\n",
              "      filter: drop-shadow(0px 1px 2px rgba(0, 0, 0, 0.3));\n",
              "      fill: #FFFFFF;\n",
              "    }\n",
              "  </style>\n",
              "\n",
              "    <script>\n",
              "      const buttonEl =\n",
              "        document.querySelector('#df-96332994-608a-4c2c-bf11-03b6add88439 button.colab-df-convert');\n",
              "      buttonEl.style.display =\n",
              "        google.colab.kernel.accessAllowed ? 'block' : 'none';\n",
              "\n",
              "      async function convertToInteractive(key) {\n",
              "        const element = document.querySelector('#df-96332994-608a-4c2c-bf11-03b6add88439');\n",
              "        const dataTable =\n",
              "          await google.colab.kernel.invokeFunction('convertToInteractive',\n",
              "                                                    [key], {});\n",
              "        if (!dataTable) return;\n",
              "\n",
              "        const docLinkHtml = 'Like what you see? Visit the ' +\n",
              "          '<a target=\"_blank\" href=https://colab.research.google.com/notebooks/data_table.ipynb>data table notebook</a>'\n",
              "          + ' to learn more about interactive tables.';\n",
              "        element.innerHTML = '';\n",
              "        dataTable['output_type'] = 'display_data';\n",
              "        await google.colab.output.renderOutput(dataTable, element);\n",
              "        const docLink = document.createElement('div');\n",
              "        docLink.innerHTML = docLinkHtml;\n",
              "        element.appendChild(docLink);\n",
              "      }\n",
              "    </script>\n",
              "  </div>\n",
              "\n",
              "\n",
              "<div id=\"df-af1041f2-b710-48c1-9df6-9929c14d73bb\">\n",
              "  <button class=\"colab-df-quickchart\" onclick=\"quickchart('df-af1041f2-b710-48c1-9df6-9929c14d73bb')\"\n",
              "            title=\"Suggest charts\"\n",
              "            style=\"display:none;\">\n",
              "\n",
              "<svg xmlns=\"http://www.w3.org/2000/svg\" height=\"24px\"viewBox=\"0 0 24 24\"\n",
              "     width=\"24px\">\n",
              "    <g>\n",
              "        <path d=\"M19 3H5c-1.1 0-2 .9-2 2v14c0 1.1.9 2 2 2h14c1.1 0 2-.9 2-2V5c0-1.1-.9-2-2-2zM9 17H7v-7h2v7zm4 0h-2V7h2v10zm4 0h-2v-4h2v4z\"/>\n",
              "    </g>\n",
              "</svg>\n",
              "  </button>\n",
              "\n",
              "<style>\n",
              "  .colab-df-quickchart {\n",
              "      --bg-color: #E8F0FE;\n",
              "      --fill-color: #1967D2;\n",
              "      --hover-bg-color: #E2EBFA;\n",
              "      --hover-fill-color: #174EA6;\n",
              "      --disabled-fill-color: #AAA;\n",
              "      --disabled-bg-color: #DDD;\n",
              "  }\n",
              "\n",
              "  [theme=dark] .colab-df-quickchart {\n",
              "      --bg-color: #3B4455;\n",
              "      --fill-color: #D2E3FC;\n",
              "      --hover-bg-color: #434B5C;\n",
              "      --hover-fill-color: #FFFFFF;\n",
              "      --disabled-bg-color: #3B4455;\n",
              "      --disabled-fill-color: #666;\n",
              "  }\n",
              "\n",
              "  .colab-df-quickchart {\n",
              "    background-color: var(--bg-color);\n",
              "    border: none;\n",
              "    border-radius: 50%;\n",
              "    cursor: pointer;\n",
              "    display: none;\n",
              "    fill: var(--fill-color);\n",
              "    height: 32px;\n",
              "    padding: 0;\n",
              "    width: 32px;\n",
              "  }\n",
              "\n",
              "  .colab-df-quickchart:hover {\n",
              "    background-color: var(--hover-bg-color);\n",
              "    box-shadow: 0 1px 2px rgba(60, 64, 67, 0.3), 0 1px 3px 1px rgba(60, 64, 67, 0.15);\n",
              "    fill: var(--button-hover-fill-color);\n",
              "  }\n",
              "\n",
              "  .colab-df-quickchart-complete:disabled,\n",
              "  .colab-df-quickchart-complete:disabled:hover {\n",
              "    background-color: var(--disabled-bg-color);\n",
              "    fill: var(--disabled-fill-color);\n",
              "    box-shadow: none;\n",
              "  }\n",
              "\n",
              "  .colab-df-spinner {\n",
              "    border: 2px solid var(--fill-color);\n",
              "    border-color: transparent;\n",
              "    border-bottom-color: var(--fill-color);\n",
              "    animation:\n",
              "      spin 1s steps(1) infinite;\n",
              "  }\n",
              "\n",
              "  @keyframes spin {\n",
              "    0% {\n",
              "      border-color: transparent;\n",
              "      border-bottom-color: var(--fill-color);\n",
              "      border-left-color: var(--fill-color);\n",
              "    }\n",
              "    20% {\n",
              "      border-color: transparent;\n",
              "      border-left-color: var(--fill-color);\n",
              "      border-top-color: var(--fill-color);\n",
              "    }\n",
              "    30% {\n",
              "      border-color: transparent;\n",
              "      border-left-color: var(--fill-color);\n",
              "      border-top-color: var(--fill-color);\n",
              "      border-right-color: var(--fill-color);\n",
              "    }\n",
              "    40% {\n",
              "      border-color: transparent;\n",
              "      border-right-color: var(--fill-color);\n",
              "      border-top-color: var(--fill-color);\n",
              "    }\n",
              "    60% {\n",
              "      border-color: transparent;\n",
              "      border-right-color: var(--fill-color);\n",
              "    }\n",
              "    80% {\n",
              "      border-color: transparent;\n",
              "      border-right-color: var(--fill-color);\n",
              "      border-bottom-color: var(--fill-color);\n",
              "    }\n",
              "    90% {\n",
              "      border-color: transparent;\n",
              "      border-bottom-color: var(--fill-color);\n",
              "    }\n",
              "  }\n",
              "</style>\n",
              "\n",
              "  <script>\n",
              "    async function quickchart(key) {\n",
              "      const quickchartButtonEl =\n",
              "        document.querySelector('#' + key + ' button');\n",
              "      quickchartButtonEl.disabled = true;  // To prevent multiple clicks.\n",
              "      quickchartButtonEl.classList.add('colab-df-spinner');\n",
              "      try {\n",
              "        const charts = await google.colab.kernel.invokeFunction(\n",
              "            'suggestCharts', [key], {});\n",
              "      } catch (error) {\n",
              "        console.error('Error during call to suggestCharts:', error);\n",
              "      }\n",
              "      quickchartButtonEl.classList.remove('colab-df-spinner');\n",
              "      quickchartButtonEl.classList.add('colab-df-quickchart-complete');\n",
              "    }\n",
              "    (() => {\n",
              "      let quickchartButtonEl =\n",
              "        document.querySelector('#df-af1041f2-b710-48c1-9df6-9929c14d73bb button');\n",
              "      quickchartButtonEl.style.display =\n",
              "        google.colab.kernel.accessAllowed ? 'block' : 'none';\n",
              "    })();\n",
              "  </script>\n",
              "</div>\n",
              "    </div>\n",
              "  </div>\n"
            ],
            "application/vnd.google.colaboratory.intrinsic+json": {
              "type": "dataframe",
              "variable_name": "data",
              "summary": "{\n  \"name\": \"data\",\n  \"rows\": 10000,\n  \"fields\": [\n    {\n      \"column\": \"RowNumber\",\n      \"properties\": {\n        \"dtype\": \"number\",\n        \"std\": 2886,\n        \"min\": 1,\n        \"max\": 10000,\n        \"num_unique_values\": 10000,\n        \"samples\": [\n          6253,\n          4685,\n          1732\n        ],\n        \"semantic_type\": \"\",\n        \"description\": \"\"\n      }\n    },\n    {\n      \"column\": \"CustomerId\",\n      \"properties\": {\n        \"dtype\": \"number\",\n        \"std\": 71936,\n        \"min\": 15565701,\n        \"max\": 15815690,\n        \"num_unique_values\": 10000,\n        \"samples\": [\n          15687492,\n          15736963,\n          15721730\n        ],\n        \"semantic_type\": \"\",\n        \"description\": \"\"\n      }\n    },\n    {\n      \"column\": \"Surname\",\n      \"properties\": {\n        \"dtype\": \"category\",\n        \"num_unique_values\": 2932,\n        \"samples\": [\n          \"McGuirk\",\n          \"Torkelson\",\n          \"Rapuluchukwu\"\n        ],\n        \"semantic_type\": \"\",\n        \"description\": \"\"\n      }\n    },\n    {\n      \"column\": \"CreditScore\",\n      \"properties\": {\n        \"dtype\": \"number\",\n        \"std\": 96,\n        \"min\": 350,\n        \"max\": 850,\n        \"num_unique_values\": 460,\n        \"samples\": [\n          754,\n          533,\n          744\n        ],\n        \"semantic_type\": \"\",\n        \"description\": \"\"\n      }\n    },\n    {\n      \"column\": \"Geography\",\n      \"properties\": {\n        \"dtype\": \"category\",\n        \"num_unique_values\": 3,\n        \"samples\": [\n          \"France\",\n          \"Spain\",\n          \"Germany\"\n        ],\n        \"semantic_type\": \"\",\n        \"description\": \"\"\n      }\n    },\n    {\n      \"column\": \"Gender\",\n      \"properties\": {\n        \"dtype\": \"category\",\n        \"num_unique_values\": 2,\n        \"samples\": [\n          \"Male\",\n          \"Female\"\n        ],\n        \"semantic_type\": \"\",\n        \"description\": \"\"\n      }\n    },\n    {\n      \"column\": \"Age\",\n      \"properties\": {\n        \"dtype\": \"number\",\n        \"std\": 10,\n        \"min\": 18,\n        \"max\": 92,\n        \"num_unique_values\": 70,\n        \"samples\": [\n          61,\n          42\n        ],\n        \"semantic_type\": \"\",\n        \"description\": \"\"\n      }\n    },\n    {\n      \"column\": \"Tenure\",\n      \"properties\": {\n        \"dtype\": \"number\",\n        \"std\": 2,\n        \"min\": 0,\n        \"max\": 10,\n        \"num_unique_values\": 11,\n        \"samples\": [\n          6,\n          2\n        ],\n        \"semantic_type\": \"\",\n        \"description\": \"\"\n      }\n    },\n    {\n      \"column\": \"Balance\",\n      \"properties\": {\n        \"dtype\": \"number\",\n        \"std\": 62397.405202385955,\n        \"min\": 0.0,\n        \"max\": 250898.09,\n        \"num_unique_values\": 6382,\n        \"samples\": [\n          117707.18,\n          133050.97\n        ],\n        \"semantic_type\": \"\",\n        \"description\": \"\"\n      }\n    },\n    {\n      \"column\": \"NumOfProducts\",\n      \"properties\": {\n        \"dtype\": \"number\",\n        \"std\": 0,\n        \"min\": 1,\n        \"max\": 4,\n        \"num_unique_values\": 4,\n        \"samples\": [\n          3,\n          4\n        ],\n        \"semantic_type\": \"\",\n        \"description\": \"\"\n      }\n    },\n    {\n      \"column\": \"HasCrCard\",\n      \"properties\": {\n        \"dtype\": \"number\",\n        \"std\": 0,\n        \"min\": 0,\n        \"max\": 1,\n        \"num_unique_values\": 2,\n        \"samples\": [\n          0,\n          1\n        ],\n        \"semantic_type\": \"\",\n        \"description\": \"\"\n      }\n    },\n    {\n      \"column\": \"IsActiveMember\",\n      \"properties\": {\n        \"dtype\": \"number\",\n        \"std\": 0,\n        \"min\": 0,\n        \"max\": 1,\n        \"num_unique_values\": 2,\n        \"samples\": [\n          0,\n          1\n        ],\n        \"semantic_type\": \"\",\n        \"description\": \"\"\n      }\n    },\n    {\n      \"column\": \"EstimatedSalary\",\n      \"properties\": {\n        \"dtype\": \"number\",\n        \"std\": 57510.49281769816,\n        \"min\": 11.58,\n        \"max\": 199992.48,\n        \"num_unique_values\": 9999,\n        \"samples\": [\n          100809.99,\n          95273.73\n        ],\n        \"semantic_type\": \"\",\n        \"description\": \"\"\n      }\n    },\n    {\n      \"column\": \"Exited\",\n      \"properties\": {\n        \"dtype\": \"number\",\n        \"std\": 0,\n        \"min\": 0,\n        \"max\": 1,\n        \"num_unique_values\": 2,\n        \"samples\": [\n          0,\n          1\n        ],\n        \"semantic_type\": \"\",\n        \"description\": \"\"\n      }\n    }\n  ]\n}"
            }
          },
          "metadata": {},
          "execution_count": 3
        }
      ],
      "source": [
        "data.head(10)"
      ]
    },
    {
      "cell_type": "code",
      "execution_count": null,
      "metadata": {
        "colab": {
          "base_uri": "https://localhost:8080/"
        },
        "id": "Wys0r_-O_90e",
        "outputId": "e63fdba0-f398-458f-8374-3af15240274b"
      },
      "outputs": [
        {
          "output_type": "execute_result",
          "data": {
            "text/plain": [
              "(10000, 14)"
            ]
          },
          "metadata": {},
          "execution_count": 4
        }
      ],
      "source": [
        "#Сколько в датасете строк и столбцов?\n",
        "\n",
        "data.shape"
      ]
    },
    {
      "cell_type": "markdown",
      "metadata": {
        "id": "h5rS9B2QGiTF"
      },
      "source": [
        "В датасете 10000 строк и 14 столбцов"
      ]
    },
    {
      "cell_type": "code",
      "execution_count": null,
      "metadata": {
        "colab": {
          "base_uri": "https://localhost:8080/"
        },
        "id": "EjqY8UHwGueq",
        "outputId": "9c10425d-c62e-4f71-9b2d-851512c2e358"
      },
      "outputs": [
        {
          "output_type": "stream",
          "name": "stdout",
          "text": [
            "<class 'pandas.core.frame.DataFrame'>\n",
            "RangeIndex: 10000 entries, 0 to 9999\n",
            "Data columns (total 14 columns):\n",
            " #   Column           Non-Null Count  Dtype  \n",
            "---  ------           --------------  -----  \n",
            " 0   RowNumber        10000 non-null  int64  \n",
            " 1   CustomerId       10000 non-null  int64  \n",
            " 2   Surname          10000 non-null  object \n",
            " 3   CreditScore      10000 non-null  int64  \n",
            " 4   Geography        10000 non-null  object \n",
            " 5   Gender           10000 non-null  object \n",
            " 6   Age              10000 non-null  int64  \n",
            " 7   Tenure           10000 non-null  int64  \n",
            " 8   Balance          10000 non-null  float64\n",
            " 9   NumOfProducts    10000 non-null  int64  \n",
            " 10  HasCrCard        10000 non-null  int64  \n",
            " 11  IsActiveMember   10000 non-null  int64  \n",
            " 12  EstimatedSalary  10000 non-null  float64\n",
            " 13  Exited           10000 non-null  int64  \n",
            "dtypes: float64(2), int64(9), object(3)\n",
            "memory usage: 1.1+ MB\n"
          ]
        }
      ],
      "source": [
        "#Опишите признаки в датасете. Какие признаки количественные, категориальные, номинальные?\n",
        "\n",
        "data.info()"
      ]
    },
    {
      "cell_type": "markdown",
      "metadata": {
        "id": "ATxekKWzGx9p"
      },
      "source": [
        "В датасете представлены количественные дискретные переменные: CreditScore, Age, Tenure и NumOfProducts, так же есть количественные непрерывные: Balance и EstimatedSalary. Из категориальных переменных в датасете есть бинарные: Gender, HasCrCard, IsActiveMember и Exited, и три номинальных: CustomerId, Surname и Geography. Также переменная RowNumber (категориальная номинальная) просто отражает индекс элемента, так что данный столбец стоит убрать (так как индекс автоматически отображается в датафрейме pandas)."
      ]
    },
    {
      "cell_type": "code",
      "execution_count": null,
      "metadata": {
        "colab": {
          "base_uri": "https://localhost:8080/"
        },
        "id": "q4kiB45UAju0",
        "outputId": "2cec9ca8-14f2-473e-e671-7a0c37529fa7"
      },
      "outputs": [
        {
          "output_type": "execute_result",
          "data": {
            "text/plain": [
              "False"
            ]
          },
          "metadata": {},
          "execution_count": 6
        }
      ],
      "source": [
        "#Есть ли пропуски в данных?\n",
        "\n",
        "data.isna().values.any()"
      ]
    },
    {
      "cell_type": "markdown",
      "metadata": {
        "id": "JVf0MNasIYj_"
      },
      "source": [
        "В датасете нет пропусков."
      ]
    },
    {
      "cell_type": "code",
      "execution_count": null,
      "metadata": {
        "colab": {
          "base_uri": "https://localhost:8080/"
        },
        "id": "d8M1ZTSVIqQh",
        "outputId": "3a1f1761-5746-4ab9-a4d2-1551f59e3e9e"
      },
      "outputs": [
        {
          "output_type": "execute_result",
          "data": {
            "text/plain": [
              "False"
            ]
          },
          "metadata": {},
          "execution_count": 7
        }
      ],
      "source": [
        "#Есть ли в данных полные дубликаты?\n",
        "\n",
        "data.duplicated().any()"
      ]
    },
    {
      "cell_type": "markdown",
      "metadata": {
        "id": "yk8vwgA1Ix4I"
      },
      "source": [
        "Дубликаты тоже не наблюдаются."
      ]
    },
    {
      "cell_type": "code",
      "execution_count": null,
      "metadata": {
        "id": "xLj6XmllW9_L"
      },
      "outputs": [],
      "source": [
        "#Теперь разберёмся с переменными в нашем датасете\n",
        "\n",
        "data = data.drop(columns = ['RowNumber', 'CustomerId', 'Surname'])"
      ]
    },
    {
      "cell_type": "markdown",
      "metadata": {
        "id": "AvhXBbOBXEXt"
      },
      "source": [
        "Убираем данные переменные, поскольку CustomerId и Surname - категориальные переменные, которые не будут влиять ни на что в дальнейшем, а RowNumber просто отображает индекс элемента."
      ]
    },
    {
      "cell_type": "code",
      "execution_count": null,
      "metadata": {
        "id": "IOMIEUp-ZaMm"
      },
      "outputs": [],
      "source": [
        "#Используем One Hot Encoding, чтобы закодировать категориальные переменные Gender и Geography в бинарные.\n",
        "\n",
        "from sklearn.preprocessing import OneHotEncoder\n",
        "\n",
        "ohe = OneHotEncoder(handle_unknown='ignore', sparse_output=False).set_output(transform='pandas')\n",
        "ohed = ohe.fit_transform(data[['Gender', 'Geography']])\n",
        "\n",
        "data = pd.concat([data, ohed], axis=1).drop(columns=['Gender', 'Geography'])"
      ]
    },
    {
      "cell_type": "code",
      "execution_count": null,
      "metadata": {
        "colab": {
          "base_uri": "https://localhost:8080/",
          "height": 226
        },
        "id": "Bq3_y1vacvx9",
        "outputId": "0069bc33-9442-4b5a-e18a-ec72e0b41987"
      },
      "outputs": [
        {
          "output_type": "execute_result",
          "data": {
            "text/plain": [
              "   CreditScore  Age  Tenure    Balance  NumOfProducts  HasCrCard  \\\n",
              "0          619   42       2       0.00              1          1   \n",
              "1          608   41       1   83807.86              1          0   \n",
              "2          502   42       8  159660.80              3          1   \n",
              "3          699   39       1       0.00              2          0   \n",
              "4          850   43       2  125510.82              1          1   \n",
              "\n",
              "   IsActiveMember  EstimatedSalary  Exited  Gender_Female  Gender_Male  \\\n",
              "0               1        101348.88       1            1.0          0.0   \n",
              "1               1        112542.58       0            1.0          0.0   \n",
              "2               0        113931.57       1            1.0          0.0   \n",
              "3               0         93826.63       0            1.0          0.0   \n",
              "4               1         79084.10       0            1.0          0.0   \n",
              "\n",
              "   Geography_France  Geography_Germany  Geography_Spain  \n",
              "0               1.0                0.0              0.0  \n",
              "1               0.0                0.0              1.0  \n",
              "2               1.0                0.0              0.0  \n",
              "3               1.0                0.0              0.0  \n",
              "4               0.0                0.0              1.0  "
            ],
            "text/html": [
              "\n",
              "  <div id=\"df-16a01d88-c0bf-4a81-b459-5fdc5f39139f\" class=\"colab-df-container\">\n",
              "    <div>\n",
              "<style scoped>\n",
              "    .dataframe tbody tr th:only-of-type {\n",
              "        vertical-align: middle;\n",
              "    }\n",
              "\n",
              "    .dataframe tbody tr th {\n",
              "        vertical-align: top;\n",
              "    }\n",
              "\n",
              "    .dataframe thead th {\n",
              "        text-align: right;\n",
              "    }\n",
              "</style>\n",
              "<table border=\"1\" class=\"dataframe\">\n",
              "  <thead>\n",
              "    <tr style=\"text-align: right;\">\n",
              "      <th></th>\n",
              "      <th>CreditScore</th>\n",
              "      <th>Age</th>\n",
              "      <th>Tenure</th>\n",
              "      <th>Balance</th>\n",
              "      <th>NumOfProducts</th>\n",
              "      <th>HasCrCard</th>\n",
              "      <th>IsActiveMember</th>\n",
              "      <th>EstimatedSalary</th>\n",
              "      <th>Exited</th>\n",
              "      <th>Gender_Female</th>\n",
              "      <th>Gender_Male</th>\n",
              "      <th>Geography_France</th>\n",
              "      <th>Geography_Germany</th>\n",
              "      <th>Geography_Spain</th>\n",
              "    </tr>\n",
              "  </thead>\n",
              "  <tbody>\n",
              "    <tr>\n",
              "      <th>0</th>\n",
              "      <td>619</td>\n",
              "      <td>42</td>\n",
              "      <td>2</td>\n",
              "      <td>0.00</td>\n",
              "      <td>1</td>\n",
              "      <td>1</td>\n",
              "      <td>1</td>\n",
              "      <td>101348.88</td>\n",
              "      <td>1</td>\n",
              "      <td>1.0</td>\n",
              "      <td>0.0</td>\n",
              "      <td>1.0</td>\n",
              "      <td>0.0</td>\n",
              "      <td>0.0</td>\n",
              "    </tr>\n",
              "    <tr>\n",
              "      <th>1</th>\n",
              "      <td>608</td>\n",
              "      <td>41</td>\n",
              "      <td>1</td>\n",
              "      <td>83807.86</td>\n",
              "      <td>1</td>\n",
              "      <td>0</td>\n",
              "      <td>1</td>\n",
              "      <td>112542.58</td>\n",
              "      <td>0</td>\n",
              "      <td>1.0</td>\n",
              "      <td>0.0</td>\n",
              "      <td>0.0</td>\n",
              "      <td>0.0</td>\n",
              "      <td>1.0</td>\n",
              "    </tr>\n",
              "    <tr>\n",
              "      <th>2</th>\n",
              "      <td>502</td>\n",
              "      <td>42</td>\n",
              "      <td>8</td>\n",
              "      <td>159660.80</td>\n",
              "      <td>3</td>\n",
              "      <td>1</td>\n",
              "      <td>0</td>\n",
              "      <td>113931.57</td>\n",
              "      <td>1</td>\n",
              "      <td>1.0</td>\n",
              "      <td>0.0</td>\n",
              "      <td>1.0</td>\n",
              "      <td>0.0</td>\n",
              "      <td>0.0</td>\n",
              "    </tr>\n",
              "    <tr>\n",
              "      <th>3</th>\n",
              "      <td>699</td>\n",
              "      <td>39</td>\n",
              "      <td>1</td>\n",
              "      <td>0.00</td>\n",
              "      <td>2</td>\n",
              "      <td>0</td>\n",
              "      <td>0</td>\n",
              "      <td>93826.63</td>\n",
              "      <td>0</td>\n",
              "      <td>1.0</td>\n",
              "      <td>0.0</td>\n",
              "      <td>1.0</td>\n",
              "      <td>0.0</td>\n",
              "      <td>0.0</td>\n",
              "    </tr>\n",
              "    <tr>\n",
              "      <th>4</th>\n",
              "      <td>850</td>\n",
              "      <td>43</td>\n",
              "      <td>2</td>\n",
              "      <td>125510.82</td>\n",
              "      <td>1</td>\n",
              "      <td>1</td>\n",
              "      <td>1</td>\n",
              "      <td>79084.10</td>\n",
              "      <td>0</td>\n",
              "      <td>1.0</td>\n",
              "      <td>0.0</td>\n",
              "      <td>0.0</td>\n",
              "      <td>0.0</td>\n",
              "      <td>1.0</td>\n",
              "    </tr>\n",
              "  </tbody>\n",
              "</table>\n",
              "</div>\n",
              "    <div class=\"colab-df-buttons\">\n",
              "\n",
              "  <div class=\"colab-df-container\">\n",
              "    <button class=\"colab-df-convert\" onclick=\"convertToInteractive('df-16a01d88-c0bf-4a81-b459-5fdc5f39139f')\"\n",
              "            title=\"Convert this dataframe to an interactive table.\"\n",
              "            style=\"display:none;\">\n",
              "\n",
              "  <svg xmlns=\"http://www.w3.org/2000/svg\" height=\"24px\" viewBox=\"0 -960 960 960\">\n",
              "    <path d=\"M120-120v-720h720v720H120Zm60-500h600v-160H180v160Zm220 220h160v-160H400v160Zm0 220h160v-160H400v160ZM180-400h160v-160H180v160Zm440 0h160v-160H620v160ZM180-180h160v-160H180v160Zm440 0h160v-160H620v160Z\"/>\n",
              "  </svg>\n",
              "    </button>\n",
              "\n",
              "  <style>\n",
              "    .colab-df-container {\n",
              "      display:flex;\n",
              "      gap: 12px;\n",
              "    }\n",
              "\n",
              "    .colab-df-convert {\n",
              "      background-color: #E8F0FE;\n",
              "      border: none;\n",
              "      border-radius: 50%;\n",
              "      cursor: pointer;\n",
              "      display: none;\n",
              "      fill: #1967D2;\n",
              "      height: 32px;\n",
              "      padding: 0 0 0 0;\n",
              "      width: 32px;\n",
              "    }\n",
              "\n",
              "    .colab-df-convert:hover {\n",
              "      background-color: #E2EBFA;\n",
              "      box-shadow: 0px 1px 2px rgba(60, 64, 67, 0.3), 0px 1px 3px 1px rgba(60, 64, 67, 0.15);\n",
              "      fill: #174EA6;\n",
              "    }\n",
              "\n",
              "    .colab-df-buttons div {\n",
              "      margin-bottom: 4px;\n",
              "    }\n",
              "\n",
              "    [theme=dark] .colab-df-convert {\n",
              "      background-color: #3B4455;\n",
              "      fill: #D2E3FC;\n",
              "    }\n",
              "\n",
              "    [theme=dark] .colab-df-convert:hover {\n",
              "      background-color: #434B5C;\n",
              "      box-shadow: 0px 1px 3px 1px rgba(0, 0, 0, 0.15);\n",
              "      filter: drop-shadow(0px 1px 2px rgba(0, 0, 0, 0.3));\n",
              "      fill: #FFFFFF;\n",
              "    }\n",
              "  </style>\n",
              "\n",
              "    <script>\n",
              "      const buttonEl =\n",
              "        document.querySelector('#df-16a01d88-c0bf-4a81-b459-5fdc5f39139f button.colab-df-convert');\n",
              "      buttonEl.style.display =\n",
              "        google.colab.kernel.accessAllowed ? 'block' : 'none';\n",
              "\n",
              "      async function convertToInteractive(key) {\n",
              "        const element = document.querySelector('#df-16a01d88-c0bf-4a81-b459-5fdc5f39139f');\n",
              "        const dataTable =\n",
              "          await google.colab.kernel.invokeFunction('convertToInteractive',\n",
              "                                                    [key], {});\n",
              "        if (!dataTable) return;\n",
              "\n",
              "        const docLinkHtml = 'Like what you see? Visit the ' +\n",
              "          '<a target=\"_blank\" href=https://colab.research.google.com/notebooks/data_table.ipynb>data table notebook</a>'\n",
              "          + ' to learn more about interactive tables.';\n",
              "        element.innerHTML = '';\n",
              "        dataTable['output_type'] = 'display_data';\n",
              "        await google.colab.output.renderOutput(dataTable, element);\n",
              "        const docLink = document.createElement('div');\n",
              "        docLink.innerHTML = docLinkHtml;\n",
              "        element.appendChild(docLink);\n",
              "      }\n",
              "    </script>\n",
              "  </div>\n",
              "\n",
              "\n",
              "<div id=\"df-fb9f623a-af99-4455-bfe5-80ff84eb91f8\">\n",
              "  <button class=\"colab-df-quickchart\" onclick=\"quickchart('df-fb9f623a-af99-4455-bfe5-80ff84eb91f8')\"\n",
              "            title=\"Suggest charts\"\n",
              "            style=\"display:none;\">\n",
              "\n",
              "<svg xmlns=\"http://www.w3.org/2000/svg\" height=\"24px\"viewBox=\"0 0 24 24\"\n",
              "     width=\"24px\">\n",
              "    <g>\n",
              "        <path d=\"M19 3H5c-1.1 0-2 .9-2 2v14c0 1.1.9 2 2 2h14c1.1 0 2-.9 2-2V5c0-1.1-.9-2-2-2zM9 17H7v-7h2v7zm4 0h-2V7h2v10zm4 0h-2v-4h2v4z\"/>\n",
              "    </g>\n",
              "</svg>\n",
              "  </button>\n",
              "\n",
              "<style>\n",
              "  .colab-df-quickchart {\n",
              "      --bg-color: #E8F0FE;\n",
              "      --fill-color: #1967D2;\n",
              "      --hover-bg-color: #E2EBFA;\n",
              "      --hover-fill-color: #174EA6;\n",
              "      --disabled-fill-color: #AAA;\n",
              "      --disabled-bg-color: #DDD;\n",
              "  }\n",
              "\n",
              "  [theme=dark] .colab-df-quickchart {\n",
              "      --bg-color: #3B4455;\n",
              "      --fill-color: #D2E3FC;\n",
              "      --hover-bg-color: #434B5C;\n",
              "      --hover-fill-color: #FFFFFF;\n",
              "      --disabled-bg-color: #3B4455;\n",
              "      --disabled-fill-color: #666;\n",
              "  }\n",
              "\n",
              "  .colab-df-quickchart {\n",
              "    background-color: var(--bg-color);\n",
              "    border: none;\n",
              "    border-radius: 50%;\n",
              "    cursor: pointer;\n",
              "    display: none;\n",
              "    fill: var(--fill-color);\n",
              "    height: 32px;\n",
              "    padding: 0;\n",
              "    width: 32px;\n",
              "  }\n",
              "\n",
              "  .colab-df-quickchart:hover {\n",
              "    background-color: var(--hover-bg-color);\n",
              "    box-shadow: 0 1px 2px rgba(60, 64, 67, 0.3), 0 1px 3px 1px rgba(60, 64, 67, 0.15);\n",
              "    fill: var(--button-hover-fill-color);\n",
              "  }\n",
              "\n",
              "  .colab-df-quickchart-complete:disabled,\n",
              "  .colab-df-quickchart-complete:disabled:hover {\n",
              "    background-color: var(--disabled-bg-color);\n",
              "    fill: var(--disabled-fill-color);\n",
              "    box-shadow: none;\n",
              "  }\n",
              "\n",
              "  .colab-df-spinner {\n",
              "    border: 2px solid var(--fill-color);\n",
              "    border-color: transparent;\n",
              "    border-bottom-color: var(--fill-color);\n",
              "    animation:\n",
              "      spin 1s steps(1) infinite;\n",
              "  }\n",
              "\n",
              "  @keyframes spin {\n",
              "    0% {\n",
              "      border-color: transparent;\n",
              "      border-bottom-color: var(--fill-color);\n",
              "      border-left-color: var(--fill-color);\n",
              "    }\n",
              "    20% {\n",
              "      border-color: transparent;\n",
              "      border-left-color: var(--fill-color);\n",
              "      border-top-color: var(--fill-color);\n",
              "    }\n",
              "    30% {\n",
              "      border-color: transparent;\n",
              "      border-left-color: var(--fill-color);\n",
              "      border-top-color: var(--fill-color);\n",
              "      border-right-color: var(--fill-color);\n",
              "    }\n",
              "    40% {\n",
              "      border-color: transparent;\n",
              "      border-right-color: var(--fill-color);\n",
              "      border-top-color: var(--fill-color);\n",
              "    }\n",
              "    60% {\n",
              "      border-color: transparent;\n",
              "      border-right-color: var(--fill-color);\n",
              "    }\n",
              "    80% {\n",
              "      border-color: transparent;\n",
              "      border-right-color: var(--fill-color);\n",
              "      border-bottom-color: var(--fill-color);\n",
              "    }\n",
              "    90% {\n",
              "      border-color: transparent;\n",
              "      border-bottom-color: var(--fill-color);\n",
              "    }\n",
              "  }\n",
              "</style>\n",
              "\n",
              "  <script>\n",
              "    async function quickchart(key) {\n",
              "      const quickchartButtonEl =\n",
              "        document.querySelector('#' + key + ' button');\n",
              "      quickchartButtonEl.disabled = true;  // To prevent multiple clicks.\n",
              "      quickchartButtonEl.classList.add('colab-df-spinner');\n",
              "      try {\n",
              "        const charts = await google.colab.kernel.invokeFunction(\n",
              "            'suggestCharts', [key], {});\n",
              "      } catch (error) {\n",
              "        console.error('Error during call to suggestCharts:', error);\n",
              "      }\n",
              "      quickchartButtonEl.classList.remove('colab-df-spinner');\n",
              "      quickchartButtonEl.classList.add('colab-df-quickchart-complete');\n",
              "    }\n",
              "    (() => {\n",
              "      let quickchartButtonEl =\n",
              "        document.querySelector('#df-fb9f623a-af99-4455-bfe5-80ff84eb91f8 button');\n",
              "      quickchartButtonEl.style.display =\n",
              "        google.colab.kernel.accessAllowed ? 'block' : 'none';\n",
              "    })();\n",
              "  </script>\n",
              "</div>\n",
              "    </div>\n",
              "  </div>\n"
            ],
            "application/vnd.google.colaboratory.intrinsic+json": {
              "type": "dataframe",
              "variable_name": "data",
              "summary": "{\n  \"name\": \"data\",\n  \"rows\": 10000,\n  \"fields\": [\n    {\n      \"column\": \"CreditScore\",\n      \"properties\": {\n        \"dtype\": \"number\",\n        \"std\": 96,\n        \"min\": 350,\n        \"max\": 850,\n        \"num_unique_values\": 460,\n        \"samples\": [\n          754,\n          533,\n          744\n        ],\n        \"semantic_type\": \"\",\n        \"description\": \"\"\n      }\n    },\n    {\n      \"column\": \"Age\",\n      \"properties\": {\n        \"dtype\": \"number\",\n        \"std\": 10,\n        \"min\": 18,\n        \"max\": 92,\n        \"num_unique_values\": 70,\n        \"samples\": [\n          61,\n          42,\n          59\n        ],\n        \"semantic_type\": \"\",\n        \"description\": \"\"\n      }\n    },\n    {\n      \"column\": \"Tenure\",\n      \"properties\": {\n        \"dtype\": \"number\",\n        \"std\": 2,\n        \"min\": 0,\n        \"max\": 10,\n        \"num_unique_values\": 11,\n        \"samples\": [\n          6,\n          2,\n          9\n        ],\n        \"semantic_type\": \"\",\n        \"description\": \"\"\n      }\n    },\n    {\n      \"column\": \"Balance\",\n      \"properties\": {\n        \"dtype\": \"number\",\n        \"std\": 62397.405202385955,\n        \"min\": 0.0,\n        \"max\": 250898.09,\n        \"num_unique_values\": 6382,\n        \"samples\": [\n          117707.18,\n          133050.97,\n          124271.26\n        ],\n        \"semantic_type\": \"\",\n        \"description\": \"\"\n      }\n    },\n    {\n      \"column\": \"NumOfProducts\",\n      \"properties\": {\n        \"dtype\": \"number\",\n        \"std\": 0,\n        \"min\": 1,\n        \"max\": 4,\n        \"num_unique_values\": 4,\n        \"samples\": [\n          3,\n          4,\n          1\n        ],\n        \"semantic_type\": \"\",\n        \"description\": \"\"\n      }\n    },\n    {\n      \"column\": \"HasCrCard\",\n      \"properties\": {\n        \"dtype\": \"number\",\n        \"std\": 0,\n        \"min\": 0,\n        \"max\": 1,\n        \"num_unique_values\": 2,\n        \"samples\": [\n          0,\n          1\n        ],\n        \"semantic_type\": \"\",\n        \"description\": \"\"\n      }\n    },\n    {\n      \"column\": \"IsActiveMember\",\n      \"properties\": {\n        \"dtype\": \"number\",\n        \"std\": 0,\n        \"min\": 0,\n        \"max\": 1,\n        \"num_unique_values\": 2,\n        \"samples\": [\n          0,\n          1\n        ],\n        \"semantic_type\": \"\",\n        \"description\": \"\"\n      }\n    },\n    {\n      \"column\": \"EstimatedSalary\",\n      \"properties\": {\n        \"dtype\": \"number\",\n        \"std\": 57510.49281769816,\n        \"min\": 11.58,\n        \"max\": 199992.48,\n        \"num_unique_values\": 9999,\n        \"samples\": [\n          100809.99,\n          95273.73\n        ],\n        \"semantic_type\": \"\",\n        \"description\": \"\"\n      }\n    },\n    {\n      \"column\": \"Exited\",\n      \"properties\": {\n        \"dtype\": \"number\",\n        \"std\": 0,\n        \"min\": 0,\n        \"max\": 1,\n        \"num_unique_values\": 2,\n        \"samples\": [\n          0,\n          1\n        ],\n        \"semantic_type\": \"\",\n        \"description\": \"\"\n      }\n    },\n    {\n      \"column\": \"Gender_Female\",\n      \"properties\": {\n        \"dtype\": \"number\",\n        \"std\": 0.4979320271185246,\n        \"min\": 0.0,\n        \"max\": 1.0,\n        \"num_unique_values\": 2,\n        \"samples\": [\n          0.0,\n          1.0\n        ],\n        \"semantic_type\": \"\",\n        \"description\": \"\"\n      }\n    },\n    {\n      \"column\": \"Gender_Male\",\n      \"properties\": {\n        \"dtype\": \"number\",\n        \"std\": 0.4979320271185245,\n        \"min\": 0.0,\n        \"max\": 1.0,\n        \"num_unique_values\": 2,\n        \"samples\": [\n          1.0,\n          0.0\n        ],\n        \"semantic_type\": \"\",\n        \"description\": \"\"\n      }\n    },\n    {\n      \"column\": \"Geography_France\",\n      \"properties\": {\n        \"dtype\": \"number\",\n        \"std\": 0.5000230417733071,\n        \"min\": 0.0,\n        \"max\": 1.0,\n        \"num_unique_values\": 2,\n        \"samples\": [\n          0.0,\n          1.0\n        ],\n        \"semantic_type\": \"\",\n        \"description\": \"\"\n      }\n    },\n    {\n      \"column\": \"Geography_Germany\",\n      \"properties\": {\n        \"dtype\": \"number\",\n        \"std\": 0.43355274973027197,\n        \"min\": 0.0,\n        \"max\": 1.0,\n        \"num_unique_values\": 2,\n        \"samples\": [\n          1.0,\n          0.0\n        ],\n        \"semantic_type\": \"\",\n        \"description\": \"\"\n      }\n    },\n    {\n      \"column\": \"Geography_Spain\",\n      \"properties\": {\n        \"dtype\": \"number\",\n        \"std\": 0.43169821210497666,\n        \"min\": 0.0,\n        \"max\": 1.0,\n        \"num_unique_values\": 2,\n        \"samples\": [\n          1.0,\n          0.0\n        ],\n        \"semantic_type\": \"\",\n        \"description\": \"\"\n      }\n    }\n  ]\n}"
            }
          },
          "metadata": {},
          "execution_count": 10
        }
      ],
      "source": [
        "data.head()"
      ]
    },
    {
      "cell_type": "code",
      "execution_count": null,
      "metadata": {
        "colab": {
          "base_uri": "https://localhost:8080/"
        },
        "id": "jYp7BUtQY_SS",
        "outputId": "0688e1b5-f435-44da-e09b-24f0e2796aec"
      },
      "outputs": [
        {
          "output_type": "stream",
          "name": "stdout",
          "text": [
            "CreditScore\n",
            "Age\n",
            "NumOfProducts\n",
            "Exited\n",
            "Geography_Spain\n"
          ]
        }
      ],
      "source": [
        "#Есть ли в данных выбросы?\n",
        "\n",
        "for col in data.columns:\n",
        "  Q1 = data[col].quantile(0.25)\n",
        "  Q3 = data[col].quantile(0.75)\n",
        "  IQR = Q3 - Q1\n",
        "\n",
        "  outliers = data[(data[col] < Q1 - 1.5 * IQR) | (data[col] > Q3 + 1.5 * IQR)]\n",
        "  print(col) if outliers[col].any() == True else False"
      ]
    },
    {
      "cell_type": "markdown",
      "metadata": {
        "id": "s7GuAV5Eeag1"
      },
      "source": [
        "Здесь мы вывели столбцы, в которых нашлись выбросы. Мы пользовались критерием с использованием квантилей, а именно нашли разницу между 1 и 3 квантилями, умножили её на 1.5, вычли найденное число из первого квантиля для нижнего порога и прибавили к третьему квантилю для верхнего.\n",
        "Из получившихся столбцов Exited и Geography_Spain - бинарные переменные, так что там выбросами засчитались все значения = 1 (поэтому мы это игнорируем). Далее уберём элементы, в которых есть выбросы. Для этого мы развернем критерии и будем переназначать датасет оставляя только те элементы, которые подходят по критерию."
      ]
    },
    {
      "cell_type": "code",
      "execution_count": null,
      "metadata": {
        "id": "TJWNAKb8WzGt"
      },
      "outputs": [],
      "source": [
        "#Удаляем выбросы\n",
        "\n",
        "no_outliers = data\n",
        "for col in ['CreditScore', 'Age', 'NumOfProducts']:\n",
        "  Q1 = data[col].quantile(0.25)\n",
        "  Q3 = data[col].quantile(0.75)\n",
        "  IQR = Q3 - Q1\n",
        "\n",
        "  no_outliers = no_outliers[(no_outliers[col] > Q1 - 1.5 * IQR) & (no_outliers[col] < Q3 + 1.5 * IQR)]\n",
        "\n",
        "data = no_outliers"
      ]
    },
    {
      "cell_type": "code",
      "execution_count": null,
      "metadata": {
        "colab": {
          "base_uri": "https://localhost:8080/",
          "height": 320
        },
        "id": "QT0ClGgrdNWr",
        "outputId": "a6c322ba-4df5-47d0-e98d-7ade36dddff4"
      },
      "outputs": [
        {
          "output_type": "execute_result",
          "data": {
            "text/plain": [
              "       CreditScore          Age       Tenure        Balance  NumOfProducts  \\\n",
              "count  9515.000000  9515.000000  9515.000000    9515.000000    9515.000000   \n",
              "mean    650.721282    37.602102     5.013663   76422.825979       1.515922   \n",
              "std      96.024271     8.621119     2.887532   62439.804075       0.549460   \n",
              "min     386.000000    18.000000     0.000000       0.000000       1.000000   \n",
              "25%     584.000000    32.000000     3.000000       0.000000       1.000000   \n",
              "50%     652.000000    37.000000     5.000000   97042.600000       1.000000   \n",
              "75%     717.000000    43.000000     7.000000  127624.090000       2.000000   \n",
              "max     850.000000    61.000000    10.000000  250898.090000       3.000000   \n",
              "\n",
              "         HasCrCard  IsActiveMember  EstimatedSalary       Exited  \\\n",
              "count  9515.000000     9515.000000      9515.000000  9515.000000   \n",
              "mean      0.705833        0.502680    100117.878537     0.196427   \n",
              "std       0.455691        0.500019     57513.403721     0.397316   \n",
              "min       0.000000        0.000000        11.580000     0.000000   \n",
              "25%       0.000000        0.000000     51112.970000     0.000000   \n",
              "50%       1.000000        1.000000    100130.950000     0.000000   \n",
              "75%       1.000000        1.000000    149464.930000     0.000000   \n",
              "max       1.000000        1.000000    199992.480000     1.000000   \n",
              "\n",
              "       Gender_Female  Gender_Male  Geography_France  Geography_Germany  \\\n",
              "count    9515.000000  9515.000000       9515.000000        9515.000000   \n",
              "mean        0.452759     0.547241          0.501734           0.250552   \n",
              "std         0.497789     0.497789          0.500023           0.433354   \n",
              "min         0.000000     0.000000          0.000000           0.000000   \n",
              "25%         0.000000     0.000000          0.000000           0.000000   \n",
              "50%         0.000000     1.000000          1.000000           0.000000   \n",
              "75%         1.000000     1.000000          1.000000           1.000000   \n",
              "max         1.000000     1.000000          1.000000           1.000000   \n",
              "\n",
              "       Geography_Spain  \n",
              "count      9515.000000  \n",
              "mean          0.247714  \n",
              "std           0.431708  \n",
              "min           0.000000  \n",
              "25%           0.000000  \n",
              "50%           0.000000  \n",
              "75%           0.000000  \n",
              "max           1.000000  "
            ],
            "text/html": [
              "\n",
              "  <div id=\"df-1c57546e-012e-4ca5-b934-851845ab923c\" class=\"colab-df-container\">\n",
              "    <div>\n",
              "<style scoped>\n",
              "    .dataframe tbody tr th:only-of-type {\n",
              "        vertical-align: middle;\n",
              "    }\n",
              "\n",
              "    .dataframe tbody tr th {\n",
              "        vertical-align: top;\n",
              "    }\n",
              "\n",
              "    .dataframe thead th {\n",
              "        text-align: right;\n",
              "    }\n",
              "</style>\n",
              "<table border=\"1\" class=\"dataframe\">\n",
              "  <thead>\n",
              "    <tr style=\"text-align: right;\">\n",
              "      <th></th>\n",
              "      <th>CreditScore</th>\n",
              "      <th>Age</th>\n",
              "      <th>Tenure</th>\n",
              "      <th>Balance</th>\n",
              "      <th>NumOfProducts</th>\n",
              "      <th>HasCrCard</th>\n",
              "      <th>IsActiveMember</th>\n",
              "      <th>EstimatedSalary</th>\n",
              "      <th>Exited</th>\n",
              "      <th>Gender_Female</th>\n",
              "      <th>Gender_Male</th>\n",
              "      <th>Geography_France</th>\n",
              "      <th>Geography_Germany</th>\n",
              "      <th>Geography_Spain</th>\n",
              "    </tr>\n",
              "  </thead>\n",
              "  <tbody>\n",
              "    <tr>\n",
              "      <th>count</th>\n",
              "      <td>9515.000000</td>\n",
              "      <td>9515.000000</td>\n",
              "      <td>9515.000000</td>\n",
              "      <td>9515.000000</td>\n",
              "      <td>9515.000000</td>\n",
              "      <td>9515.000000</td>\n",
              "      <td>9515.000000</td>\n",
              "      <td>9515.000000</td>\n",
              "      <td>9515.000000</td>\n",
              "      <td>9515.000000</td>\n",
              "      <td>9515.000000</td>\n",
              "      <td>9515.000000</td>\n",
              "      <td>9515.000000</td>\n",
              "      <td>9515.000000</td>\n",
              "    </tr>\n",
              "    <tr>\n",
              "      <th>mean</th>\n",
              "      <td>650.721282</td>\n",
              "      <td>37.602102</td>\n",
              "      <td>5.013663</td>\n",
              "      <td>76422.825979</td>\n",
              "      <td>1.515922</td>\n",
              "      <td>0.705833</td>\n",
              "      <td>0.502680</td>\n",
              "      <td>100117.878537</td>\n",
              "      <td>0.196427</td>\n",
              "      <td>0.452759</td>\n",
              "      <td>0.547241</td>\n",
              "      <td>0.501734</td>\n",
              "      <td>0.250552</td>\n",
              "      <td>0.247714</td>\n",
              "    </tr>\n",
              "    <tr>\n",
              "      <th>std</th>\n",
              "      <td>96.024271</td>\n",
              "      <td>8.621119</td>\n",
              "      <td>2.887532</td>\n",
              "      <td>62439.804075</td>\n",
              "      <td>0.549460</td>\n",
              "      <td>0.455691</td>\n",
              "      <td>0.500019</td>\n",
              "      <td>57513.403721</td>\n",
              "      <td>0.397316</td>\n",
              "      <td>0.497789</td>\n",
              "      <td>0.497789</td>\n",
              "      <td>0.500023</td>\n",
              "      <td>0.433354</td>\n",
              "      <td>0.431708</td>\n",
              "    </tr>\n",
              "    <tr>\n",
              "      <th>min</th>\n",
              "      <td>386.000000</td>\n",
              "      <td>18.000000</td>\n",
              "      <td>0.000000</td>\n",
              "      <td>0.000000</td>\n",
              "      <td>1.000000</td>\n",
              "      <td>0.000000</td>\n",
              "      <td>0.000000</td>\n",
              "      <td>11.580000</td>\n",
              "      <td>0.000000</td>\n",
              "      <td>0.000000</td>\n",
              "      <td>0.000000</td>\n",
              "      <td>0.000000</td>\n",
              "      <td>0.000000</td>\n",
              "      <td>0.000000</td>\n",
              "    </tr>\n",
              "    <tr>\n",
              "      <th>25%</th>\n",
              "      <td>584.000000</td>\n",
              "      <td>32.000000</td>\n",
              "      <td>3.000000</td>\n",
              "      <td>0.000000</td>\n",
              "      <td>1.000000</td>\n",
              "      <td>0.000000</td>\n",
              "      <td>0.000000</td>\n",
              "      <td>51112.970000</td>\n",
              "      <td>0.000000</td>\n",
              "      <td>0.000000</td>\n",
              "      <td>0.000000</td>\n",
              "      <td>0.000000</td>\n",
              "      <td>0.000000</td>\n",
              "      <td>0.000000</td>\n",
              "    </tr>\n",
              "    <tr>\n",
              "      <th>50%</th>\n",
              "      <td>652.000000</td>\n",
              "      <td>37.000000</td>\n",
              "      <td>5.000000</td>\n",
              "      <td>97042.600000</td>\n",
              "      <td>1.000000</td>\n",
              "      <td>1.000000</td>\n",
              "      <td>1.000000</td>\n",
              "      <td>100130.950000</td>\n",
              "      <td>0.000000</td>\n",
              "      <td>0.000000</td>\n",
              "      <td>1.000000</td>\n",
              "      <td>1.000000</td>\n",
              "      <td>0.000000</td>\n",
              "      <td>0.000000</td>\n",
              "    </tr>\n",
              "    <tr>\n",
              "      <th>75%</th>\n",
              "      <td>717.000000</td>\n",
              "      <td>43.000000</td>\n",
              "      <td>7.000000</td>\n",
              "      <td>127624.090000</td>\n",
              "      <td>2.000000</td>\n",
              "      <td>1.000000</td>\n",
              "      <td>1.000000</td>\n",
              "      <td>149464.930000</td>\n",
              "      <td>0.000000</td>\n",
              "      <td>1.000000</td>\n",
              "      <td>1.000000</td>\n",
              "      <td>1.000000</td>\n",
              "      <td>1.000000</td>\n",
              "      <td>0.000000</td>\n",
              "    </tr>\n",
              "    <tr>\n",
              "      <th>max</th>\n",
              "      <td>850.000000</td>\n",
              "      <td>61.000000</td>\n",
              "      <td>10.000000</td>\n",
              "      <td>250898.090000</td>\n",
              "      <td>3.000000</td>\n",
              "      <td>1.000000</td>\n",
              "      <td>1.000000</td>\n",
              "      <td>199992.480000</td>\n",
              "      <td>1.000000</td>\n",
              "      <td>1.000000</td>\n",
              "      <td>1.000000</td>\n",
              "      <td>1.000000</td>\n",
              "      <td>1.000000</td>\n",
              "      <td>1.000000</td>\n",
              "    </tr>\n",
              "  </tbody>\n",
              "</table>\n",
              "</div>\n",
              "    <div class=\"colab-df-buttons\">\n",
              "\n",
              "  <div class=\"colab-df-container\">\n",
              "    <button class=\"colab-df-convert\" onclick=\"convertToInteractive('df-1c57546e-012e-4ca5-b934-851845ab923c')\"\n",
              "            title=\"Convert this dataframe to an interactive table.\"\n",
              "            style=\"display:none;\">\n",
              "\n",
              "  <svg xmlns=\"http://www.w3.org/2000/svg\" height=\"24px\" viewBox=\"0 -960 960 960\">\n",
              "    <path d=\"M120-120v-720h720v720H120Zm60-500h600v-160H180v160Zm220 220h160v-160H400v160Zm0 220h160v-160H400v160ZM180-400h160v-160H180v160Zm440 0h160v-160H620v160ZM180-180h160v-160H180v160Zm440 0h160v-160H620v160Z\"/>\n",
              "  </svg>\n",
              "    </button>\n",
              "\n",
              "  <style>\n",
              "    .colab-df-container {\n",
              "      display:flex;\n",
              "      gap: 12px;\n",
              "    }\n",
              "\n",
              "    .colab-df-convert {\n",
              "      background-color: #E8F0FE;\n",
              "      border: none;\n",
              "      border-radius: 50%;\n",
              "      cursor: pointer;\n",
              "      display: none;\n",
              "      fill: #1967D2;\n",
              "      height: 32px;\n",
              "      padding: 0 0 0 0;\n",
              "      width: 32px;\n",
              "    }\n",
              "\n",
              "    .colab-df-convert:hover {\n",
              "      background-color: #E2EBFA;\n",
              "      box-shadow: 0px 1px 2px rgba(60, 64, 67, 0.3), 0px 1px 3px 1px rgba(60, 64, 67, 0.15);\n",
              "      fill: #174EA6;\n",
              "    }\n",
              "\n",
              "    .colab-df-buttons div {\n",
              "      margin-bottom: 4px;\n",
              "    }\n",
              "\n",
              "    [theme=dark] .colab-df-convert {\n",
              "      background-color: #3B4455;\n",
              "      fill: #D2E3FC;\n",
              "    }\n",
              "\n",
              "    [theme=dark] .colab-df-convert:hover {\n",
              "      background-color: #434B5C;\n",
              "      box-shadow: 0px 1px 3px 1px rgba(0, 0, 0, 0.15);\n",
              "      filter: drop-shadow(0px 1px 2px rgba(0, 0, 0, 0.3));\n",
              "      fill: #FFFFFF;\n",
              "    }\n",
              "  </style>\n",
              "\n",
              "    <script>\n",
              "      const buttonEl =\n",
              "        document.querySelector('#df-1c57546e-012e-4ca5-b934-851845ab923c button.colab-df-convert');\n",
              "      buttonEl.style.display =\n",
              "        google.colab.kernel.accessAllowed ? 'block' : 'none';\n",
              "\n",
              "      async function convertToInteractive(key) {\n",
              "        const element = document.querySelector('#df-1c57546e-012e-4ca5-b934-851845ab923c');\n",
              "        const dataTable =\n",
              "          await google.colab.kernel.invokeFunction('convertToInteractive',\n",
              "                                                    [key], {});\n",
              "        if (!dataTable) return;\n",
              "\n",
              "        const docLinkHtml = 'Like what you see? Visit the ' +\n",
              "          '<a target=\"_blank\" href=https://colab.research.google.com/notebooks/data_table.ipynb>data table notebook</a>'\n",
              "          + ' to learn more about interactive tables.';\n",
              "        element.innerHTML = '';\n",
              "        dataTable['output_type'] = 'display_data';\n",
              "        await google.colab.output.renderOutput(dataTable, element);\n",
              "        const docLink = document.createElement('div');\n",
              "        docLink.innerHTML = docLinkHtml;\n",
              "        element.appendChild(docLink);\n",
              "      }\n",
              "    </script>\n",
              "  </div>\n",
              "\n",
              "\n",
              "<div id=\"df-939b55aa-c109-4a7d-a98d-9e1e673b5d7c\">\n",
              "  <button class=\"colab-df-quickchart\" onclick=\"quickchart('df-939b55aa-c109-4a7d-a98d-9e1e673b5d7c')\"\n",
              "            title=\"Suggest charts\"\n",
              "            style=\"display:none;\">\n",
              "\n",
              "<svg xmlns=\"http://www.w3.org/2000/svg\" height=\"24px\"viewBox=\"0 0 24 24\"\n",
              "     width=\"24px\">\n",
              "    <g>\n",
              "        <path d=\"M19 3H5c-1.1 0-2 .9-2 2v14c0 1.1.9 2 2 2h14c1.1 0 2-.9 2-2V5c0-1.1-.9-2-2-2zM9 17H7v-7h2v7zm4 0h-2V7h2v10zm4 0h-2v-4h2v4z\"/>\n",
              "    </g>\n",
              "</svg>\n",
              "  </button>\n",
              "\n",
              "<style>\n",
              "  .colab-df-quickchart {\n",
              "      --bg-color: #E8F0FE;\n",
              "      --fill-color: #1967D2;\n",
              "      --hover-bg-color: #E2EBFA;\n",
              "      --hover-fill-color: #174EA6;\n",
              "      --disabled-fill-color: #AAA;\n",
              "      --disabled-bg-color: #DDD;\n",
              "  }\n",
              "\n",
              "  [theme=dark] .colab-df-quickchart {\n",
              "      --bg-color: #3B4455;\n",
              "      --fill-color: #D2E3FC;\n",
              "      --hover-bg-color: #434B5C;\n",
              "      --hover-fill-color: #FFFFFF;\n",
              "      --disabled-bg-color: #3B4455;\n",
              "      --disabled-fill-color: #666;\n",
              "  }\n",
              "\n",
              "  .colab-df-quickchart {\n",
              "    background-color: var(--bg-color);\n",
              "    border: none;\n",
              "    border-radius: 50%;\n",
              "    cursor: pointer;\n",
              "    display: none;\n",
              "    fill: var(--fill-color);\n",
              "    height: 32px;\n",
              "    padding: 0;\n",
              "    width: 32px;\n",
              "  }\n",
              "\n",
              "  .colab-df-quickchart:hover {\n",
              "    background-color: var(--hover-bg-color);\n",
              "    box-shadow: 0 1px 2px rgba(60, 64, 67, 0.3), 0 1px 3px 1px rgba(60, 64, 67, 0.15);\n",
              "    fill: var(--button-hover-fill-color);\n",
              "  }\n",
              "\n",
              "  .colab-df-quickchart-complete:disabled,\n",
              "  .colab-df-quickchart-complete:disabled:hover {\n",
              "    background-color: var(--disabled-bg-color);\n",
              "    fill: var(--disabled-fill-color);\n",
              "    box-shadow: none;\n",
              "  }\n",
              "\n",
              "  .colab-df-spinner {\n",
              "    border: 2px solid var(--fill-color);\n",
              "    border-color: transparent;\n",
              "    border-bottom-color: var(--fill-color);\n",
              "    animation:\n",
              "      spin 1s steps(1) infinite;\n",
              "  }\n",
              "\n",
              "  @keyframes spin {\n",
              "    0% {\n",
              "      border-color: transparent;\n",
              "      border-bottom-color: var(--fill-color);\n",
              "      border-left-color: var(--fill-color);\n",
              "    }\n",
              "    20% {\n",
              "      border-color: transparent;\n",
              "      border-left-color: var(--fill-color);\n",
              "      border-top-color: var(--fill-color);\n",
              "    }\n",
              "    30% {\n",
              "      border-color: transparent;\n",
              "      border-left-color: var(--fill-color);\n",
              "      border-top-color: var(--fill-color);\n",
              "      border-right-color: var(--fill-color);\n",
              "    }\n",
              "    40% {\n",
              "      border-color: transparent;\n",
              "      border-right-color: var(--fill-color);\n",
              "      border-top-color: var(--fill-color);\n",
              "    }\n",
              "    60% {\n",
              "      border-color: transparent;\n",
              "      border-right-color: var(--fill-color);\n",
              "    }\n",
              "    80% {\n",
              "      border-color: transparent;\n",
              "      border-right-color: var(--fill-color);\n",
              "      border-bottom-color: var(--fill-color);\n",
              "    }\n",
              "    90% {\n",
              "      border-color: transparent;\n",
              "      border-bottom-color: var(--fill-color);\n",
              "    }\n",
              "  }\n",
              "</style>\n",
              "\n",
              "  <script>\n",
              "    async function quickchart(key) {\n",
              "      const quickchartButtonEl =\n",
              "        document.querySelector('#' + key + ' button');\n",
              "      quickchartButtonEl.disabled = true;  // To prevent multiple clicks.\n",
              "      quickchartButtonEl.classList.add('colab-df-spinner');\n",
              "      try {\n",
              "        const charts = await google.colab.kernel.invokeFunction(\n",
              "            'suggestCharts', [key], {});\n",
              "      } catch (error) {\n",
              "        console.error('Error during call to suggestCharts:', error);\n",
              "      }\n",
              "      quickchartButtonEl.classList.remove('colab-df-spinner');\n",
              "      quickchartButtonEl.classList.add('colab-df-quickchart-complete');\n",
              "    }\n",
              "    (() => {\n",
              "      let quickchartButtonEl =\n",
              "        document.querySelector('#df-939b55aa-c109-4a7d-a98d-9e1e673b5d7c button');\n",
              "      quickchartButtonEl.style.display =\n",
              "        google.colab.kernel.accessAllowed ? 'block' : 'none';\n",
              "    })();\n",
              "  </script>\n",
              "</div>\n",
              "    </div>\n",
              "  </div>\n"
            ],
            "application/vnd.google.colaboratory.intrinsic+json": {
              "type": "dataframe",
              "summary": "{\n  \"name\": \"data\",\n  \"rows\": 8,\n  \"fields\": [\n    {\n      \"column\": \"CreditScore\",\n      \"properties\": {\n        \"dtype\": \"number\",\n        \"std\": 3173.64840424071,\n        \"min\": 96.02427083109679,\n        \"max\": 9515.0,\n        \"num_unique_values\": 8,\n        \"samples\": [\n          650.7212821860221,\n          652.0,\n          9515.0\n        ],\n        \"semantic_type\": \"\",\n        \"description\": \"\"\n      }\n    },\n    {\n      \"column\": \"Age\",\n      \"properties\": {\n        \"dtype\": \"number\",\n        \"std\": 3352.115920764315,\n        \"min\": 8.621118661955071,\n        \"max\": 9515.0,\n        \"num_unique_values\": 8,\n        \"samples\": [\n          37.602101944298475,\n          37.0,\n          9515.0\n        ],\n        \"semantic_type\": \"\",\n        \"description\": \"\"\n      }\n    },\n    {\n      \"column\": \"Tenure\",\n      \"properties\": {\n        \"dtype\": \"number\",\n        \"std\": 3362.4000637651548,\n        \"min\": 0.0,\n        \"max\": 9515.0,\n        \"num_unique_values\": 8,\n        \"samples\": [\n          5.013662637940095,\n          5.0,\n          9515.0\n        ],\n        \"semantic_type\": \"\",\n        \"description\": \"\"\n      }\n    },\n    {\n      \"column\": \"Balance\",\n      \"properties\": {\n        \"dtype\": \"number\",\n        \"std\": 84364.61888247107,\n        \"min\": 0.0,\n        \"max\": 250898.09,\n        \"num_unique_values\": 7,\n        \"samples\": [\n          9515.0,\n          76422.82597898056,\n          127624.09\n        ],\n        \"semantic_type\": \"\",\n        \"description\": \"\"\n      }\n    },\n    {\n      \"column\": \"NumOfProducts\",\n      \"properties\": {\n        \"dtype\": \"number\",\n        \"std\": 3363.552220551959,\n        \"min\": 0.5494601266523573,\n        \"max\": 9515.0,\n        \"num_unique_values\": 6,\n        \"samples\": [\n          9515.0,\n          1.5159222280609563,\n          3.0\n        ],\n        \"semantic_type\": \"\",\n        \"description\": \"\"\n      }\n    },\n    {\n      \"column\": \"HasCrCard\",\n      \"properties\": {\n        \"dtype\": \"number\",\n        \"std\": 3363.8503489342343,\n        \"min\": 0.0,\n        \"max\": 9515.0,\n        \"num_unique_values\": 5,\n        \"samples\": [\n          0.7058328954282711,\n          1.0,\n          0.455691390180096\n        ],\n        \"semantic_type\": \"\",\n        \"description\": \"\"\n      }\n    },\n    {\n      \"column\": \"IsActiveMember\",\n      \"properties\": {\n        \"dtype\": \"number\",\n        \"std\": 3363.8583704385655,\n        \"min\": 0.0,\n        \"max\": 9515.0,\n        \"num_unique_values\": 5,\n        \"samples\": [\n          0.502679978980557,\n          1.0,\n          0.5000190936585556\n        ],\n        \"semantic_type\": \"\",\n        \"description\": \"\"\n      }\n    },\n    {\n      \"column\": \"EstimatedSalary\",\n      \"properties\": {\n        \"dtype\": \"number\",\n        \"std\": 68288.18051941895,\n        \"min\": 11.58,\n        \"max\": 199992.48,\n        \"num_unique_values\": 8,\n        \"samples\": [\n          100117.87853704677,\n          100130.95,\n          9515.0\n        ],\n        \"semantic_type\": \"\",\n        \"description\": \"\"\n      }\n    },\n    {\n      \"column\": \"Exited\",\n      \"properties\": {\n        \"dtype\": \"number\",\n        \"std\": 3363.980033043344,\n        \"min\": 0.0,\n        \"max\": 9515.0,\n        \"num_unique_values\": 5,\n        \"samples\": [\n          0.19642669469259064,\n          1.0,\n          0.3973157924550127\n        ],\n        \"semantic_type\": \"\",\n        \"description\": \"\"\n      }\n    },\n    {\n      \"column\": \"Gender_Female\",\n      \"properties\": {\n        \"dtype\": \"number\",\n        \"std\": 3363.911511978984,\n        \"min\": 0.0,\n        \"max\": 9515.0,\n        \"num_unique_values\": 5,\n        \"samples\": [\n          0.4527588018917499,\n          1.0,\n          0.497789425051728\n        ],\n        \"semantic_type\": \"\",\n        \"description\": \"\"\n      }\n    },\n    {\n      \"column\": \"Gender_Male\",\n      \"properties\": {\n        \"dtype\": \"number\",\n        \"std\": 3363.8562322852085,\n        \"min\": 0.0,\n        \"max\": 9515.0,\n        \"num_unique_values\": 5,\n        \"samples\": [\n          0.5472411981082501,\n          1.0,\n          0.497789425051728\n        ],\n        \"semantic_type\": \"\",\n        \"description\": \"\"\n      }\n    },\n    {\n      \"column\": \"Geography_France\",\n      \"properties\": {\n        \"dtype\": \"number\",\n        \"std\": 3363.858418004354,\n        \"min\": 0.0,\n        \"max\": 9515.0,\n        \"num_unique_values\": 5,\n        \"samples\": [\n          0.5017341040462427,\n          1.0,\n          0.5000232690910108\n        ],\n        \"semantic_type\": \"\",\n        \"description\": \"\"\n      }\n    },\n    {\n      \"column\": \"Geography_Germany\",\n      \"properties\": {\n        \"dtype\": \"number\",\n        \"std\": 3363.9249797427256,\n        \"min\": 0.0,\n        \"max\": 9515.0,\n        \"num_unique_values\": 5,\n        \"samples\": [\n          0.25055176037835,\n          1.0,\n          0.4333535652489556\n        ],\n        \"semantic_type\": \"\",\n        \"description\": \"\"\n      }\n    },\n    {\n      \"column\": \"Geography_Spain\",\n      \"properties\": {\n        \"dtype\": \"number\",\n        \"std\": 3363.975705827516,\n        \"min\": 0.0,\n        \"max\": 9515.0,\n        \"num_unique_values\": 5,\n        \"samples\": [\n          0.24771413557540725,\n          1.0,\n          0.43170757432519297\n        ],\n        \"semantic_type\": \"\",\n        \"description\": \"\"\n      }\n    }\n  ]\n}"
            }
          },
          "metadata": {},
          "execution_count": 13
        }
      ],
      "source": [
        "#Посчитаем описательные статистики по переменным\n",
        "\n",
        "data.describe()"
      ]
    },
    {
      "cell_type": "code",
      "execution_count": null,
      "metadata": {
        "colab": {
          "base_uri": "https://localhost:8080/",
          "height": 508
        },
        "id": "pMXApk8TAONv",
        "outputId": "2627d0df-ab2d-4d36-f1fe-d54102b30a01"
      },
      "outputs": [
        {
          "output_type": "execute_result",
          "data": {
            "text/plain": [
              "                   CreditScore       Age    Tenure   Balance  NumOfProducts  \\\n",
              "CreditScore           1.000000 -0.013864 -0.000634  0.007042       0.009547   \n",
              "Age                  -0.013864  1.000000 -0.012508  0.040749      -0.060902   \n",
              "Tenure               -0.000634 -0.012508  1.000000 -0.014962       0.014636   \n",
              "Balance               0.007042  0.040749 -0.014962  1.000000      -0.332589   \n",
              "NumOfProducts         0.009547 -0.060902  0.014636 -0.332589       1.000000   \n",
              "HasCrCard            -0.002030 -0.012995  0.020788 -0.012308       0.003806   \n",
              "IsActiveMember        0.020944  0.012878 -0.028781 -0.006476       0.013139   \n",
              "EstimatedSalary       0.002351 -0.004819  0.009366  0.011047       0.010610   \n",
              "Exited               -0.016384  0.354963 -0.014341  0.113866      -0.108936   \n",
              "Gender_Female         0.003401  0.029884 -0.015638 -0.013576       0.013991   \n",
              "Gender_Male          -0.003401 -0.029884  0.015638  0.013576      -0.013991   \n",
              "Geography_France     -0.013026 -0.051385 -0.003365 -0.229067      -0.000005   \n",
              "Geography_Germany     0.008044  0.062840 -0.000888  0.401136      -0.020287   \n",
              "Geography_Spain       0.007013 -0.003563  0.004789 -0.137350       0.020370   \n",
              "\n",
              "                   HasCrCard  IsActiveMember  EstimatedSalary    Exited  \\\n",
              "CreditScore        -0.002030        0.020944         0.002351 -0.016384   \n",
              "Age                -0.012995        0.012878        -0.004819  0.354963   \n",
              "Tenure              0.020788       -0.028781         0.009366 -0.014341   \n",
              "Balance            -0.012308       -0.006476         0.011047  0.113866   \n",
              "NumOfProducts       0.003806        0.013139         0.010610 -0.108936   \n",
              "HasCrCard           1.000000       -0.011532        -0.011193 -0.006503   \n",
              "IsActiveMember     -0.011532        1.000000        -0.008751 -0.143119   \n",
              "EstimatedSalary    -0.011193       -0.008751         1.000000  0.009593   \n",
              "Exited             -0.006503       -0.143119         0.009593  1.000000   \n",
              "Gender_Female      -0.005898       -0.021344         0.007489  0.103521   \n",
              "Gender_Male         0.005898        0.021344        -0.007489 -0.103521   \n",
              "Geography_France    0.006621       -0.000334        -0.002208 -0.104089   \n",
              "Geography_Germany   0.010802       -0.015226         0.012125  0.171368   \n",
              "Geography_Spain    -0.018512        0.015671        -0.009614 -0.051461   \n",
              "\n",
              "                   Gender_Female  Gender_Male  Geography_France  \\\n",
              "CreditScore             0.003401    -0.003401         -0.013026   \n",
              "Age                     0.029884    -0.029884         -0.051385   \n",
              "Tenure                 -0.015638     0.015638         -0.003365   \n",
              "Balance                -0.013576     0.013576         -0.229067   \n",
              "NumOfProducts           0.013991    -0.013991         -0.000005   \n",
              "HasCrCard              -0.005898     0.005898          0.006621   \n",
              "IsActiveMember         -0.021344     0.021344         -0.000334   \n",
              "EstimatedSalary         0.007489    -0.007489         -0.002208   \n",
              "Exited                  0.103521    -0.103521         -0.104089   \n",
              "Gender_Female           1.000000    -1.000000         -0.009911   \n",
              "Gender_Male            -1.000000     1.000000          0.009911   \n",
              "Geography_France       -0.009911     0.009911          1.000000   \n",
              "Geography_Germany       0.026615    -0.026615         -0.580209   \n",
              "Geography_Spain        -0.015237     0.015237         -0.575825   \n",
              "\n",
              "                   Geography_Germany  Geography_Spain  \n",
              "CreditScore                 0.008044         0.007013  \n",
              "Age                         0.062840        -0.003563  \n",
              "Tenure                     -0.000888         0.004789  \n",
              "Balance                     0.401136        -0.137350  \n",
              "NumOfProducts              -0.020287         0.020370  \n",
              "HasCrCard                   0.010802        -0.018512  \n",
              "IsActiveMember             -0.015226         0.015671  \n",
              "EstimatedSalary             0.012125        -0.009614  \n",
              "Exited                      0.171368        -0.051461  \n",
              "Gender_Female               0.026615        -0.015237  \n",
              "Gender_Male                -0.026615         0.015237  \n",
              "Geography_France           -0.580209        -0.575825  \n",
              "Geography_Germany           1.000000        -0.331789  \n",
              "Geography_Spain            -0.331789         1.000000  "
            ],
            "text/html": [
              "\n",
              "  <div id=\"df-1f252c27-cef8-47c9-90c7-524248ca74bf\" class=\"colab-df-container\">\n",
              "    <div>\n",
              "<style scoped>\n",
              "    .dataframe tbody tr th:only-of-type {\n",
              "        vertical-align: middle;\n",
              "    }\n",
              "\n",
              "    .dataframe tbody tr th {\n",
              "        vertical-align: top;\n",
              "    }\n",
              "\n",
              "    .dataframe thead th {\n",
              "        text-align: right;\n",
              "    }\n",
              "</style>\n",
              "<table border=\"1\" class=\"dataframe\">\n",
              "  <thead>\n",
              "    <tr style=\"text-align: right;\">\n",
              "      <th></th>\n",
              "      <th>CreditScore</th>\n",
              "      <th>Age</th>\n",
              "      <th>Tenure</th>\n",
              "      <th>Balance</th>\n",
              "      <th>NumOfProducts</th>\n",
              "      <th>HasCrCard</th>\n",
              "      <th>IsActiveMember</th>\n",
              "      <th>EstimatedSalary</th>\n",
              "      <th>Exited</th>\n",
              "      <th>Gender_Female</th>\n",
              "      <th>Gender_Male</th>\n",
              "      <th>Geography_France</th>\n",
              "      <th>Geography_Germany</th>\n",
              "      <th>Geography_Spain</th>\n",
              "    </tr>\n",
              "  </thead>\n",
              "  <tbody>\n",
              "    <tr>\n",
              "      <th>CreditScore</th>\n",
              "      <td>1.000000</td>\n",
              "      <td>-0.013864</td>\n",
              "      <td>-0.000634</td>\n",
              "      <td>0.007042</td>\n",
              "      <td>0.009547</td>\n",
              "      <td>-0.002030</td>\n",
              "      <td>0.020944</td>\n",
              "      <td>0.002351</td>\n",
              "      <td>-0.016384</td>\n",
              "      <td>0.003401</td>\n",
              "      <td>-0.003401</td>\n",
              "      <td>-0.013026</td>\n",
              "      <td>0.008044</td>\n",
              "      <td>0.007013</td>\n",
              "    </tr>\n",
              "    <tr>\n",
              "      <th>Age</th>\n",
              "      <td>-0.013864</td>\n",
              "      <td>1.000000</td>\n",
              "      <td>-0.012508</td>\n",
              "      <td>0.040749</td>\n",
              "      <td>-0.060902</td>\n",
              "      <td>-0.012995</td>\n",
              "      <td>0.012878</td>\n",
              "      <td>-0.004819</td>\n",
              "      <td>0.354963</td>\n",
              "      <td>0.029884</td>\n",
              "      <td>-0.029884</td>\n",
              "      <td>-0.051385</td>\n",
              "      <td>0.062840</td>\n",
              "      <td>-0.003563</td>\n",
              "    </tr>\n",
              "    <tr>\n",
              "      <th>Tenure</th>\n",
              "      <td>-0.000634</td>\n",
              "      <td>-0.012508</td>\n",
              "      <td>1.000000</td>\n",
              "      <td>-0.014962</td>\n",
              "      <td>0.014636</td>\n",
              "      <td>0.020788</td>\n",
              "      <td>-0.028781</td>\n",
              "      <td>0.009366</td>\n",
              "      <td>-0.014341</td>\n",
              "      <td>-0.015638</td>\n",
              "      <td>0.015638</td>\n",
              "      <td>-0.003365</td>\n",
              "      <td>-0.000888</td>\n",
              "      <td>0.004789</td>\n",
              "    </tr>\n",
              "    <tr>\n",
              "      <th>Balance</th>\n",
              "      <td>0.007042</td>\n",
              "      <td>0.040749</td>\n",
              "      <td>-0.014962</td>\n",
              "      <td>1.000000</td>\n",
              "      <td>-0.332589</td>\n",
              "      <td>-0.012308</td>\n",
              "      <td>-0.006476</td>\n",
              "      <td>0.011047</td>\n",
              "      <td>0.113866</td>\n",
              "      <td>-0.013576</td>\n",
              "      <td>0.013576</td>\n",
              "      <td>-0.229067</td>\n",
              "      <td>0.401136</td>\n",
              "      <td>-0.137350</td>\n",
              "    </tr>\n",
              "    <tr>\n",
              "      <th>NumOfProducts</th>\n",
              "      <td>0.009547</td>\n",
              "      <td>-0.060902</td>\n",
              "      <td>0.014636</td>\n",
              "      <td>-0.332589</td>\n",
              "      <td>1.000000</td>\n",
              "      <td>0.003806</td>\n",
              "      <td>0.013139</td>\n",
              "      <td>0.010610</td>\n",
              "      <td>-0.108936</td>\n",
              "      <td>0.013991</td>\n",
              "      <td>-0.013991</td>\n",
              "      <td>-0.000005</td>\n",
              "      <td>-0.020287</td>\n",
              "      <td>0.020370</td>\n",
              "    </tr>\n",
              "    <tr>\n",
              "      <th>HasCrCard</th>\n",
              "      <td>-0.002030</td>\n",
              "      <td>-0.012995</td>\n",
              "      <td>0.020788</td>\n",
              "      <td>-0.012308</td>\n",
              "      <td>0.003806</td>\n",
              "      <td>1.000000</td>\n",
              "      <td>-0.011532</td>\n",
              "      <td>-0.011193</td>\n",
              "      <td>-0.006503</td>\n",
              "      <td>-0.005898</td>\n",
              "      <td>0.005898</td>\n",
              "      <td>0.006621</td>\n",
              "      <td>0.010802</td>\n",
              "      <td>-0.018512</td>\n",
              "    </tr>\n",
              "    <tr>\n",
              "      <th>IsActiveMember</th>\n",
              "      <td>0.020944</td>\n",
              "      <td>0.012878</td>\n",
              "      <td>-0.028781</td>\n",
              "      <td>-0.006476</td>\n",
              "      <td>0.013139</td>\n",
              "      <td>-0.011532</td>\n",
              "      <td>1.000000</td>\n",
              "      <td>-0.008751</td>\n",
              "      <td>-0.143119</td>\n",
              "      <td>-0.021344</td>\n",
              "      <td>0.021344</td>\n",
              "      <td>-0.000334</td>\n",
              "      <td>-0.015226</td>\n",
              "      <td>0.015671</td>\n",
              "    </tr>\n",
              "    <tr>\n",
              "      <th>EstimatedSalary</th>\n",
              "      <td>0.002351</td>\n",
              "      <td>-0.004819</td>\n",
              "      <td>0.009366</td>\n",
              "      <td>0.011047</td>\n",
              "      <td>0.010610</td>\n",
              "      <td>-0.011193</td>\n",
              "      <td>-0.008751</td>\n",
              "      <td>1.000000</td>\n",
              "      <td>0.009593</td>\n",
              "      <td>0.007489</td>\n",
              "      <td>-0.007489</td>\n",
              "      <td>-0.002208</td>\n",
              "      <td>0.012125</td>\n",
              "      <td>-0.009614</td>\n",
              "    </tr>\n",
              "    <tr>\n",
              "      <th>Exited</th>\n",
              "      <td>-0.016384</td>\n",
              "      <td>0.354963</td>\n",
              "      <td>-0.014341</td>\n",
              "      <td>0.113866</td>\n",
              "      <td>-0.108936</td>\n",
              "      <td>-0.006503</td>\n",
              "      <td>-0.143119</td>\n",
              "      <td>0.009593</td>\n",
              "      <td>1.000000</td>\n",
              "      <td>0.103521</td>\n",
              "      <td>-0.103521</td>\n",
              "      <td>-0.104089</td>\n",
              "      <td>0.171368</td>\n",
              "      <td>-0.051461</td>\n",
              "    </tr>\n",
              "    <tr>\n",
              "      <th>Gender_Female</th>\n",
              "      <td>0.003401</td>\n",
              "      <td>0.029884</td>\n",
              "      <td>-0.015638</td>\n",
              "      <td>-0.013576</td>\n",
              "      <td>0.013991</td>\n",
              "      <td>-0.005898</td>\n",
              "      <td>-0.021344</td>\n",
              "      <td>0.007489</td>\n",
              "      <td>0.103521</td>\n",
              "      <td>1.000000</td>\n",
              "      <td>-1.000000</td>\n",
              "      <td>-0.009911</td>\n",
              "      <td>0.026615</td>\n",
              "      <td>-0.015237</td>\n",
              "    </tr>\n",
              "    <tr>\n",
              "      <th>Gender_Male</th>\n",
              "      <td>-0.003401</td>\n",
              "      <td>-0.029884</td>\n",
              "      <td>0.015638</td>\n",
              "      <td>0.013576</td>\n",
              "      <td>-0.013991</td>\n",
              "      <td>0.005898</td>\n",
              "      <td>0.021344</td>\n",
              "      <td>-0.007489</td>\n",
              "      <td>-0.103521</td>\n",
              "      <td>-1.000000</td>\n",
              "      <td>1.000000</td>\n",
              "      <td>0.009911</td>\n",
              "      <td>-0.026615</td>\n",
              "      <td>0.015237</td>\n",
              "    </tr>\n",
              "    <tr>\n",
              "      <th>Geography_France</th>\n",
              "      <td>-0.013026</td>\n",
              "      <td>-0.051385</td>\n",
              "      <td>-0.003365</td>\n",
              "      <td>-0.229067</td>\n",
              "      <td>-0.000005</td>\n",
              "      <td>0.006621</td>\n",
              "      <td>-0.000334</td>\n",
              "      <td>-0.002208</td>\n",
              "      <td>-0.104089</td>\n",
              "      <td>-0.009911</td>\n",
              "      <td>0.009911</td>\n",
              "      <td>1.000000</td>\n",
              "      <td>-0.580209</td>\n",
              "      <td>-0.575825</td>\n",
              "    </tr>\n",
              "    <tr>\n",
              "      <th>Geography_Germany</th>\n",
              "      <td>0.008044</td>\n",
              "      <td>0.062840</td>\n",
              "      <td>-0.000888</td>\n",
              "      <td>0.401136</td>\n",
              "      <td>-0.020287</td>\n",
              "      <td>0.010802</td>\n",
              "      <td>-0.015226</td>\n",
              "      <td>0.012125</td>\n",
              "      <td>0.171368</td>\n",
              "      <td>0.026615</td>\n",
              "      <td>-0.026615</td>\n",
              "      <td>-0.580209</td>\n",
              "      <td>1.000000</td>\n",
              "      <td>-0.331789</td>\n",
              "    </tr>\n",
              "    <tr>\n",
              "      <th>Geography_Spain</th>\n",
              "      <td>0.007013</td>\n",
              "      <td>-0.003563</td>\n",
              "      <td>0.004789</td>\n",
              "      <td>-0.137350</td>\n",
              "      <td>0.020370</td>\n",
              "      <td>-0.018512</td>\n",
              "      <td>0.015671</td>\n",
              "      <td>-0.009614</td>\n",
              "      <td>-0.051461</td>\n",
              "      <td>-0.015237</td>\n",
              "      <td>0.015237</td>\n",
              "      <td>-0.575825</td>\n",
              "      <td>-0.331789</td>\n",
              "      <td>1.000000</td>\n",
              "    </tr>\n",
              "  </tbody>\n",
              "</table>\n",
              "</div>\n",
              "    <div class=\"colab-df-buttons\">\n",
              "\n",
              "  <div class=\"colab-df-container\">\n",
              "    <button class=\"colab-df-convert\" onclick=\"convertToInteractive('df-1f252c27-cef8-47c9-90c7-524248ca74bf')\"\n",
              "            title=\"Convert this dataframe to an interactive table.\"\n",
              "            style=\"display:none;\">\n",
              "\n",
              "  <svg xmlns=\"http://www.w3.org/2000/svg\" height=\"24px\" viewBox=\"0 -960 960 960\">\n",
              "    <path d=\"M120-120v-720h720v720H120Zm60-500h600v-160H180v160Zm220 220h160v-160H400v160Zm0 220h160v-160H400v160ZM180-400h160v-160H180v160Zm440 0h160v-160H620v160ZM180-180h160v-160H180v160Zm440 0h160v-160H620v160Z\"/>\n",
              "  </svg>\n",
              "    </button>\n",
              "\n",
              "  <style>\n",
              "    .colab-df-container {\n",
              "      display:flex;\n",
              "      gap: 12px;\n",
              "    }\n",
              "\n",
              "    .colab-df-convert {\n",
              "      background-color: #E8F0FE;\n",
              "      border: none;\n",
              "      border-radius: 50%;\n",
              "      cursor: pointer;\n",
              "      display: none;\n",
              "      fill: #1967D2;\n",
              "      height: 32px;\n",
              "      padding: 0 0 0 0;\n",
              "      width: 32px;\n",
              "    }\n",
              "\n",
              "    .colab-df-convert:hover {\n",
              "      background-color: #E2EBFA;\n",
              "      box-shadow: 0px 1px 2px rgba(60, 64, 67, 0.3), 0px 1px 3px 1px rgba(60, 64, 67, 0.15);\n",
              "      fill: #174EA6;\n",
              "    }\n",
              "\n",
              "    .colab-df-buttons div {\n",
              "      margin-bottom: 4px;\n",
              "    }\n",
              "\n",
              "    [theme=dark] .colab-df-convert {\n",
              "      background-color: #3B4455;\n",
              "      fill: #D2E3FC;\n",
              "    }\n",
              "\n",
              "    [theme=dark] .colab-df-convert:hover {\n",
              "      background-color: #434B5C;\n",
              "      box-shadow: 0px 1px 3px 1px rgba(0, 0, 0, 0.15);\n",
              "      filter: drop-shadow(0px 1px 2px rgba(0, 0, 0, 0.3));\n",
              "      fill: #FFFFFF;\n",
              "    }\n",
              "  </style>\n",
              "\n",
              "    <script>\n",
              "      const buttonEl =\n",
              "        document.querySelector('#df-1f252c27-cef8-47c9-90c7-524248ca74bf button.colab-df-convert');\n",
              "      buttonEl.style.display =\n",
              "        google.colab.kernel.accessAllowed ? 'block' : 'none';\n",
              "\n",
              "      async function convertToInteractive(key) {\n",
              "        const element = document.querySelector('#df-1f252c27-cef8-47c9-90c7-524248ca74bf');\n",
              "        const dataTable =\n",
              "          await google.colab.kernel.invokeFunction('convertToInteractive',\n",
              "                                                    [key], {});\n",
              "        if (!dataTable) return;\n",
              "\n",
              "        const docLinkHtml = 'Like what you see? Visit the ' +\n",
              "          '<a target=\"_blank\" href=https://colab.research.google.com/notebooks/data_table.ipynb>data table notebook</a>'\n",
              "          + ' to learn more about interactive tables.';\n",
              "        element.innerHTML = '';\n",
              "        dataTable['output_type'] = 'display_data';\n",
              "        await google.colab.output.renderOutput(dataTable, element);\n",
              "        const docLink = document.createElement('div');\n",
              "        docLink.innerHTML = docLinkHtml;\n",
              "        element.appendChild(docLink);\n",
              "      }\n",
              "    </script>\n",
              "  </div>\n",
              "\n",
              "\n",
              "<div id=\"df-71fb027a-7d04-49c5-a1d8-4b44cada0d4c\">\n",
              "  <button class=\"colab-df-quickchart\" onclick=\"quickchart('df-71fb027a-7d04-49c5-a1d8-4b44cada0d4c')\"\n",
              "            title=\"Suggest charts\"\n",
              "            style=\"display:none;\">\n",
              "\n",
              "<svg xmlns=\"http://www.w3.org/2000/svg\" height=\"24px\"viewBox=\"0 0 24 24\"\n",
              "     width=\"24px\">\n",
              "    <g>\n",
              "        <path d=\"M19 3H5c-1.1 0-2 .9-2 2v14c0 1.1.9 2 2 2h14c1.1 0 2-.9 2-2V5c0-1.1-.9-2-2-2zM9 17H7v-7h2v7zm4 0h-2V7h2v10zm4 0h-2v-4h2v4z\"/>\n",
              "    </g>\n",
              "</svg>\n",
              "  </button>\n",
              "\n",
              "<style>\n",
              "  .colab-df-quickchart {\n",
              "      --bg-color: #E8F0FE;\n",
              "      --fill-color: #1967D2;\n",
              "      --hover-bg-color: #E2EBFA;\n",
              "      --hover-fill-color: #174EA6;\n",
              "      --disabled-fill-color: #AAA;\n",
              "      --disabled-bg-color: #DDD;\n",
              "  }\n",
              "\n",
              "  [theme=dark] .colab-df-quickchart {\n",
              "      --bg-color: #3B4455;\n",
              "      --fill-color: #D2E3FC;\n",
              "      --hover-bg-color: #434B5C;\n",
              "      --hover-fill-color: #FFFFFF;\n",
              "      --disabled-bg-color: #3B4455;\n",
              "      --disabled-fill-color: #666;\n",
              "  }\n",
              "\n",
              "  .colab-df-quickchart {\n",
              "    background-color: var(--bg-color);\n",
              "    border: none;\n",
              "    border-radius: 50%;\n",
              "    cursor: pointer;\n",
              "    display: none;\n",
              "    fill: var(--fill-color);\n",
              "    height: 32px;\n",
              "    padding: 0;\n",
              "    width: 32px;\n",
              "  }\n",
              "\n",
              "  .colab-df-quickchart:hover {\n",
              "    background-color: var(--hover-bg-color);\n",
              "    box-shadow: 0 1px 2px rgba(60, 64, 67, 0.3), 0 1px 3px 1px rgba(60, 64, 67, 0.15);\n",
              "    fill: var(--button-hover-fill-color);\n",
              "  }\n",
              "\n",
              "  .colab-df-quickchart-complete:disabled,\n",
              "  .colab-df-quickchart-complete:disabled:hover {\n",
              "    background-color: var(--disabled-bg-color);\n",
              "    fill: var(--disabled-fill-color);\n",
              "    box-shadow: none;\n",
              "  }\n",
              "\n",
              "  .colab-df-spinner {\n",
              "    border: 2px solid var(--fill-color);\n",
              "    border-color: transparent;\n",
              "    border-bottom-color: var(--fill-color);\n",
              "    animation:\n",
              "      spin 1s steps(1) infinite;\n",
              "  }\n",
              "\n",
              "  @keyframes spin {\n",
              "    0% {\n",
              "      border-color: transparent;\n",
              "      border-bottom-color: var(--fill-color);\n",
              "      border-left-color: var(--fill-color);\n",
              "    }\n",
              "    20% {\n",
              "      border-color: transparent;\n",
              "      border-left-color: var(--fill-color);\n",
              "      border-top-color: var(--fill-color);\n",
              "    }\n",
              "    30% {\n",
              "      border-color: transparent;\n",
              "      border-left-color: var(--fill-color);\n",
              "      border-top-color: var(--fill-color);\n",
              "      border-right-color: var(--fill-color);\n",
              "    }\n",
              "    40% {\n",
              "      border-color: transparent;\n",
              "      border-right-color: var(--fill-color);\n",
              "      border-top-color: var(--fill-color);\n",
              "    }\n",
              "    60% {\n",
              "      border-color: transparent;\n",
              "      border-right-color: var(--fill-color);\n",
              "    }\n",
              "    80% {\n",
              "      border-color: transparent;\n",
              "      border-right-color: var(--fill-color);\n",
              "      border-bottom-color: var(--fill-color);\n",
              "    }\n",
              "    90% {\n",
              "      border-color: transparent;\n",
              "      border-bottom-color: var(--fill-color);\n",
              "    }\n",
              "  }\n",
              "</style>\n",
              "\n",
              "  <script>\n",
              "    async function quickchart(key) {\n",
              "      const quickchartButtonEl =\n",
              "        document.querySelector('#' + key + ' button');\n",
              "      quickchartButtonEl.disabled = true;  // To prevent multiple clicks.\n",
              "      quickchartButtonEl.classList.add('colab-df-spinner');\n",
              "      try {\n",
              "        const charts = await google.colab.kernel.invokeFunction(\n",
              "            'suggestCharts', [key], {});\n",
              "      } catch (error) {\n",
              "        console.error('Error during call to suggestCharts:', error);\n",
              "      }\n",
              "      quickchartButtonEl.classList.remove('colab-df-spinner');\n",
              "      quickchartButtonEl.classList.add('colab-df-quickchart-complete');\n",
              "    }\n",
              "    (() => {\n",
              "      let quickchartButtonEl =\n",
              "        document.querySelector('#df-71fb027a-7d04-49c5-a1d8-4b44cada0d4c button');\n",
              "      quickchartButtonEl.style.display =\n",
              "        google.colab.kernel.accessAllowed ? 'block' : 'none';\n",
              "    })();\n",
              "  </script>\n",
              "</div>\n",
              "    </div>\n",
              "  </div>\n"
            ],
            "application/vnd.google.colaboratory.intrinsic+json": {
              "type": "dataframe",
              "summary": "{\n  \"name\": \"data\",\n  \"rows\": 14,\n  \"fields\": [\n    {\n      \"column\": \"CreditScore\",\n      \"properties\": {\n        \"dtype\": \"number\",\n        \"std\": 0.26727059210453274,\n        \"min\": -0.016384135289124056,\n        \"max\": 1.0,\n        \"num_unique_values\": 14,\n        \"samples\": [\n          0.0034011112894894164,\n          -0.013026023734831558,\n          1.0\n        ],\n        \"semantic_type\": \"\",\n        \"description\": \"\"\n      }\n    },\n    {\n      \"column\": \"Age\",\n      \"properties\": {\n        \"dtype\": \"number\",\n        \"std\": 0.2797833948535339,\n        \"min\": -0.06090246193096006,\n        \"max\": 1.0,\n        \"num_unique_values\": 14,\n        \"samples\": [\n          0.029884015000021157,\n          -0.05138509194139399,\n          -0.013864106471150875\n        ],\n        \"semantic_type\": \"\",\n        \"description\": \"\"\n      }\n    },\n    {\n      \"column\": \"Tenure\",\n      \"properties\": {\n        \"dtype\": \"number\",\n        \"std\": 0.2681699164278526,\n        \"min\": -0.028780837659486382,\n        \"max\": 1.0,\n        \"num_unique_values\": 14,\n        \"samples\": [\n          -0.015638359004524514,\n          -0.0033651219980078114,\n          -0.0006341096875028509\n        ],\n        \"semantic_type\": \"\",\n        \"description\": \"\"\n      }\n    },\n    {\n      \"column\": \"Balance\",\n      \"properties\": {\n        \"dtype\": \"number\",\n        \"std\": 0.31718901722328613,\n        \"min\": -0.3325891054594548,\n        \"max\": 1.0,\n        \"num_unique_values\": 14,\n        \"samples\": [\n          -0.013575519454878487,\n          -0.22906731510082334,\n          0.007042184993717517\n        ],\n        \"semantic_type\": \"\",\n        \"description\": \"\"\n      }\n    },\n    {\n      \"column\": \"NumOfProducts\",\n      \"properties\": {\n        \"dtype\": \"number\",\n        \"std\": 0.2917395421363721,\n        \"min\": -0.3325891054594548,\n        \"max\": 1.0,\n        \"num_unique_values\": 14,\n        \"samples\": [\n          0.01399073058795348,\n          -4.865046925094544e-06,\n          0.00954678014697225\n        ],\n        \"semantic_type\": \"\",\n        \"description\": \"\"\n      }\n    },\n    {\n      \"column\": \"HasCrCard\",\n      \"properties\": {\n        \"dtype\": \"number\",\n        \"std\": 0.26816471073550463,\n        \"min\": -0.018512122619850253,\n        \"max\": 1.0,\n        \"num_unique_values\": 14,\n        \"samples\": [\n          -0.0058977234343943735,\n          0.0066212717281311385,\n          -0.0020300611822465084\n        ],\n        \"semantic_type\": \"\",\n        \"description\": \"\"\n      }\n    },\n    {\n      \"column\": \"IsActiveMember\",\n      \"properties\": {\n        \"dtype\": \"number\",\n        \"std\": 0.2734837675488984,\n        \"min\": -0.14311856204514925,\n        \"max\": 1.0,\n        \"num_unique_values\": 14,\n        \"samples\": [\n          -0.021344490940247263,\n          -0.00033388789859665737,\n          0.02094353039513431\n        ],\n        \"semantic_type\": \"\",\n        \"description\": \"\"\n      }\n    },\n    {\n      \"column\": \"EstimatedSalary\",\n      \"properties\": {\n        \"dtype\": \"number\",\n        \"std\": 0.26702123858730825,\n        \"min\": -0.011193068202195644,\n        \"max\": 1.0,\n        \"num_unique_values\": 14,\n        \"samples\": [\n          0.007489147364507233,\n          -0.0022081187016354227,\n          0.002351298999434071\n        ],\n        \"semantic_type\": \"\",\n        \"description\": \"\"\n      }\n    },\n    {\n      \"column\": \"Exited\",\n      \"properties\": {\n        \"dtype\": \"number\",\n        \"std\": 0.2951527807713535,\n        \"min\": -0.14311856204514925,\n        \"max\": 1.0,\n        \"num_unique_values\": 14,\n        \"samples\": [\n          0.10352148353443114,\n          -0.10408922474204076,\n          -0.016384135289124056\n        ],\n        \"semantic_type\": \"\",\n        \"description\": \"\"\n      }\n    },\n    {\n      \"column\": \"Gender_Female\",\n      \"properties\": {\n        \"dtype\": \"number\",\n        \"std\": 0.39351169929253615,\n        \"min\": -1.0000000000000002,\n        \"max\": 1.0,\n        \"num_unique_values\": 14,\n        \"samples\": [\n          1.0,\n          -0.009911141748931271,\n          0.0034011112894894164\n        ],\n        \"semantic_type\": \"\",\n        \"description\": \"\"\n      }\n    },\n    {\n      \"column\": \"Gender_Male\",\n      \"properties\": {\n        \"dtype\": \"number\",\n        \"std\": 0.39351169929253615,\n        \"min\": -1.0000000000000002,\n        \"max\": 1.0,\n        \"num_unique_values\": 14,\n        \"samples\": [\n          -1.0000000000000002,\n          0.009911141748931278,\n          -0.0034011112894894065\n        ],\n        \"semantic_type\": \"\",\n        \"description\": \"\"\n      }\n    },\n    {\n      \"column\": \"Geography_France\",\n      \"properties\": {\n        \"dtype\": \"number\",\n        \"std\": 0.36297426068746375,\n        \"min\": -0.5802085669318693,\n        \"max\": 1.0,\n        \"num_unique_values\": 14,\n        \"samples\": [\n          -0.009911141748931271,\n          1.0,\n          -0.013026023734831558\n        ],\n        \"semantic_type\": \"\",\n        \"description\": \"\"\n      }\n    },\n    {\n      \"column\": \"Geography_Germany\",\n      \"properties\": {\n        \"dtype\": \"number\",\n        \"std\": 0.35153804567285446,\n        \"min\": -0.5802085669318693,\n        \"max\": 1.0,\n        \"num_unique_values\": 14,\n        \"samples\": [\n          0.02661487868808699,\n          -0.5802085669318693,\n          0.008043585913189927\n        ],\n        \"semantic_type\": \"\",\n        \"description\": \"\"\n      }\n    },\n    {\n      \"column\": \"Geography_Spain\",\n      \"properties\": {\n        \"dtype\": \"number\",\n        \"std\": 0.3356228985625845,\n        \"min\": -0.5758245460753645,\n        \"max\": 1.0,\n        \"num_unique_values\": 14,\n        \"samples\": [\n          -0.015236821083595439,\n          -0.5758245460753645,\n          0.007013076717527838\n        ],\n        \"semantic_type\": \"\",\n        \"description\": \"\"\n      }\n    }\n  ]\n}"
            }
          },
          "metadata": {},
          "execution_count": 14
        }
      ],
      "source": [
        "#Выведем матрицу корреляции\n",
        "\n",
        "data.corr()"
      ]
    },
    {
      "cell_type": "code",
      "execution_count": null,
      "metadata": {
        "colab": {
          "base_uri": "https://localhost:8080/"
        },
        "id": "SYGoAIaPmjRI",
        "outputId": "240725f1-233e-445b-bf4d-7942176a05b1"
      },
      "outputs": [
        {
          "output_type": "execute_result",
          "data": {
            "text/plain": [
              "CreditScore         -0.016384\n",
              "Age                  0.354963\n",
              "Tenure              -0.014341\n",
              "Balance              0.113866\n",
              "NumOfProducts       -0.108936\n",
              "HasCrCard           -0.006503\n",
              "IsActiveMember      -0.143119\n",
              "EstimatedSalary      0.009593\n",
              "Exited               1.000000\n",
              "Gender_Female        0.103521\n",
              "Gender_Male         -0.103521\n",
              "Geography_France    -0.104089\n",
              "Geography_Germany    0.171368\n",
              "Geography_Spain     -0.051461\n",
              "Name: Exited, dtype: float64"
            ]
          },
          "metadata": {},
          "execution_count": 15
        }
      ],
      "source": [
        "data.corr()['Exited']"
      ]
    },
    {
      "cell_type": "markdown",
      "metadata": {
        "id": "7tAIa4CFoPbH"
      },
      "source": [
        "Мы вывели корреляцию с таргет переменной отдельно, чтобы нагляднее увидеть, с какими переменными у неё наибольшая корреляция. Здесь можно увидеть, что данными переменными являются Age, Balance, Geography_Germany и IsActiveMember."
      ]
    },
    {
      "cell_type": "code",
      "execution_count": null,
      "metadata": {
        "colab": {
          "base_uri": "https://localhost:8080/",
          "height": 703
        },
        "id": "pF2L1l9zmU3w",
        "outputId": "e94ecae5-6e85-4cd4-bdc4-2ef7239899e9"
      },
      "outputs": [
        {
          "output_type": "execute_result",
          "data": {
            "text/plain": [
              "Text(0.5, 1.0, 'Correlation heatmap for train')"
            ]
          },
          "metadata": {},
          "execution_count": 16
        },
        {
          "output_type": "display_data",
          "data": {
            "text/plain": [
              "<Figure size 600x600 with 2 Axes>"
            ],
            "image/png": "[encoded data removed]"
          },
          "metadata": {}
        }
      ],
      "source": [
        "fig, ax = plt.subplots(figsize=(6,6))\n",
        "ax = sns.heatmap(data.corr(), cmap=\"Purples\", annot=True, fmt=\"0.2f\")\n",
        "for t in ax.texts:\n",
        "    if float(t.get_text()) >= 0.5 or float(t.get_text()) <= -0.5:\n",
        "        t.set_text(t.get_text())\n",
        "    else:\n",
        "        t.set_text(\"\")\n",
        "\n",
        "ax.set_title('Correlation heatmap for train', fontsize=20)"
      ]
    },
    {
      "cell_type": "markdown",
      "metadata": {
        "id": "3qbIwNswoers"
      },
      "source": [
        "Здесь мы вывели ту же корреляцию в более наглядном виде. Здесь нам бросилось в глаза то, что самая большая корреляция в матрице получилась у Balance и Geography_Germany, что заставило нас предположить, что средний баланс у клиентов из Германии больше, чем у клиентов из других стран. Проверим эту гипотезу:"
      ]
    },
    {
      "cell_type": "code",
      "execution_count": null,
      "metadata": {
        "colab": {
          "base_uri": "https://localhost:8080/"
        },
        "id": "P4wshwx5nOP-",
        "outputId": "b72b9ecb-2ac4-4a5d-a6a5-968305fb7bb6"
      },
      "outputs": [
        {
          "output_type": "stream",
          "name": "stdout",
          "text": [
            "Average balance in France -  62170.1764935065\n",
            "Average balance in Germany -  119739.28504194629\n",
            "Average balance in Spain -  61478.28216801018\n"
          ]
        }
      ],
      "source": [
        "print('Average balance in France - ', data[data['Geography_France'] == 1]['Balance'].mean())\n",
        "print('Average balance in Germany - ', data[data['Geography_Germany'] == 1]['Balance'].mean())\n",
        "print('Average balance in Spain - ', data[data['Geography_Spain'] == 1]['Balance'].mean())"
      ]
    },
    {
      "cell_type": "markdown",
      "metadata": {
        "id": "wM5a98UPoUZX"
      },
      "source": [
        "Здесь мы проверили гипотезу о том, что средний баланс у клиентов из Германии больше, чем у клиентов из остальных стран. И правда, оказалось, что у них средний баланс в два раза больше."
      ]
    },
    {
      "cell_type": "code",
      "source": [
        "#График_1: \"Оси: возраст клиентов - проценты ушедших и оставшихся в банке клиентов\"\n",
        "\n",
        "x = data['Age'].unique()\n",
        "y1 = data[data['Exited'] == 1]['Age'].value_counts() / data['Age'].value_counts()\n",
        "y2 = data[data['Exited'] == 0]['Age'].value_counts() / data['Age'].value_counts()\n",
        "\n",
        "plt.bar(x, y1, color='r', label='Exited')\n",
        "plt.bar(x, y2, bottom=y1, color='b', label='Stayed')\n",
        "plt.legend()\n",
        "plt.title('Percent of exited members by age')\n",
        "plt.show()"
      ],
      "metadata": {
        "colab": {
          "base_uri": "https://localhost:8080/",
          "height": 452
        },
        "id": "TVjUfJzgJrAX",
        "outputId": "f276b27c-6b82-4b10-9a49-aa2a72c74950"
      },
      "execution_count": null,
      "outputs": [
        {
          "output_type": "display_data",
          "data": {
            "text/plain": [
              "<Figure size 640x480 with 1 Axes>"
            ],
            "image/png": "[encoded data removed]"
          },
          "metadata": {}
        }
      ]
    },
    {
      "cell_type": "markdown",
      "metadata": {
        "id": "wIBYISd3waPV"
      },
      "source": [
        "Мы можем увидеть по данному графику влияние возраста клиентов банка на отказ от дальнейшего обсуживания данным банком. Видим зависимость: Наибольший процент оставшихся клиентов наблюдается в диапазоне от 31 до 46 лет, тогда как в возрастах около 20 и старше 47 лет процент ушедших клиентов близок к 50%."
      ]
    },
    {
      "cell_type": "code",
      "execution_count": null,
      "metadata": {
        "colab": {
          "base_uri": "https://localhost:8080/",
          "height": 616
        },
        "id": "NBZmHIunC1Zl",
        "outputId": "a5b2d128-9fee-46e2-c354-a52ac31510fa"
      },
      "outputs": [
        {
          "output_type": "stream",
          "name": "stderr",
          "text": [
            "<ipython-input-41-a02c5e791437>:3: FutureWarning: \n",
            "\n",
            "Passing `palette` without assigning `hue` is deprecated and will be removed in v0.14.0. Assign the `x` variable to `hue` and set `legend=False` for the same effect.\n",
            "\n",
            "  sns.catplot(x=\"NumOfProducts\", y=\"Age\", data=data, kind=\"box\", palette=\"Purples_d\")\n"
          ]
        },
        {
          "output_type": "display_data",
          "data": {
            "text/plain": [
              "<Figure size 500x500 with 1 Axes>"
            ],
            "image/png": "[encoded data removed]"
          },
          "metadata": {}
        }
      ],
      "source": [
        "#График_2: \"Оси: возраст клиентов - количество продуктов\"\n",
        "\n",
        "sns.catplot(x=\"NumOfProducts\", y=\"Age\", data=data, kind=\"box\", palette=\"Purples_d\")\n",
        "plt.title(\"Number of products by age\")\n",
        "plt.show()"
      ]
    },
    {
      "cell_type": "markdown",
      "metadata": {
        "id": "z0beb9NwwpA5"
      },
      "source": [
        "Можно увидеть по данному графику зависимость количества продуктов от возраста клиента: 3 продукта чаще берут клиенты постарше (35-48 лет примерно), 2 продукта - клиенты помладше (32-40 лет примерно)."
      ]
    },
    {
      "cell_type": "code",
      "execution_count": null,
      "metadata": {
        "colab": {
          "base_uri": "https://localhost:8080/",
          "height": 514
        },
        "id": "rTEkIqdEEJsP",
        "outputId": "b15cfb8e-ce6a-4c83-ebf5-7becbcc064eb"
      },
      "outputs": [
        {
          "output_type": "display_data",
          "data": {
            "text/plain": [
              "<Figure size 867.75x500 with 1 Axes>"
            ],
            "image/png": "[encoded data removed]"
          },
          "metadata": {}
        }
      ],
      "source": [
        "#График_3: \"Оси: плотность, отображающая количество действующих клиентов банка - баланс средств, лежащих на банковском счёте \"\n",
        "\n",
        "facet = sns.FacetGrid(data=data, hue=\"Exited\", legend_out=True, height=5, aspect=1.5)\n",
        "facet = facet.map(sns.kdeplot, \"Balance\")\n",
        "plt.title('Distribution of exited members by balance')\n",
        "facet.add_legend(fontsize=20);"
      ]
    },
    {
      "cell_type": "markdown",
      "metadata": {
        "id": "YjMS2b5ewwhg"
      },
      "source": [
        "С помощью данного графика мы можем увидеть зависимость плотности, отображающей количество действующих клиентов банка, от баланса средств, лежащих на банковском счёте клиентов.\n",
        "\n",
        "Синия линия - это плотность оставшихся клиентов относительно баланса их счёта. Оранжевая линия - это плотность покинувших банк клиентов относительно баланса их счёта.\n",
        "\n",
        "Что мы можем увидеть? При отрицательном балансе средств: ушедших клиентов больше, чем оставшихся. При нулевом балансе средств: оставшихся намного больше, чем ушедших. Но при балансе средств около 100000-150000 ситуация меняется, ушедших становится больше, чем оставшихся."
      ]
    },
    {
      "cell_type": "markdown",
      "source": [
        "**Часть 2**\n",
        "\n",
        "**Гипотезы**:"
      ],
      "metadata": {
        "id": "815NjhmLYuha"
      }
    },
    {
      "cell_type": "markdown",
      "source": [
        "***1) Одновыборочная t:***"
      ],
      "metadata": {
        "id": "mReUD1sBYwiA"
      }
    },
    {
      "cell_type": "markdown",
      "source": [
        "Основная гипотеза H0: Среднее значение выборки 5% баланса клиентов равно среднему значению по генеральной совокупности баланса клиентов.\n",
        "\n",
        "Альтернативная гипотеза H1: Среднее значение выборки не равно среднему значению по генеральной совокупности баланса клиентов."
      ],
      "metadata": {
        "id": "wJoQbcJzPy6L"
      }
    },
    {
      "cell_type": "code",
      "source": [
        "from scipy import stats\n",
        "\n",
        "mu_exp = np.mean(data.sample(frac=0.05, random_state=12)['Balance'])\n",
        "balance = np.array(data['Balance'])\n",
        "\n",
        "result = stats.ttest_1samp(a=balance,                # выборка\n",
        "                           popmean=mu_exp,           # ожидаемое математическое ожидание\n",
        "                           alternative='two-sided')  # тип гипотезы: 'less', 'greater' or 'two-sided'\n",
        "\n",
        "print(result.pvalue > 0.1)    #уровень значимости 10%\n",
        "print(result.pvalue > 0.05)   #уровень значимости 5%\n",
        "print(result.pvalue > 0.01)   #уровень значимости 1%"
      ],
      "metadata": {
        "colab": {
          "base_uri": "https://localhost:8080/"
        },
        "id": "WZ6VlbSrdkPI",
        "outputId": "e069c43d-b8a3-418b-9163-292fda779983"
      },
      "execution_count": null,
      "outputs": [
        {
          "output_type": "stream",
          "name": "stdout",
          "text": [
            "False\n",
            "True\n",
            "True\n"
          ]
        }
      ]
    },
    {
      "cell_type": "markdown",
      "source": [
        "Основная гипотеза принимается на уровнях значимости 1% и 5%.\n",
        "\n",
        "Вывод: Можно ли оценивать общий баланс клиентов по небольшой выборке? Да, с достаточно хорошей точностью."
      ],
      "metadata": {
        "id": "V9s5WVqKd-IY"
      }
    },
    {
      "cell_type": "code",
      "source": [
        "print('Среднее значение по выборке:', mu_exp)\n",
        "print('Среднее значение по генеральной совокупности:', np.mean(balance))"
      ],
      "metadata": {
        "colab": {
          "base_uri": "https://localhost:8080/"
        },
        "id": "CSqiTH5gpJkb",
        "outputId": "498a5f3d-f8a1-45a0-f144-3b19db3133d1"
      },
      "execution_count": null,
      "outputs": [
        {
          "output_type": "stream",
          "name": "stdout",
          "text": [
            "Среднее значение по выборке: 75230.62386554622\n",
            "Среднее значение по генеральной совокупности: 76422.82597898056\n"
          ]
        }
      ]
    },
    {
      "cell_type": "markdown",
      "source": [
        "Мы вывели среднее значение по выборке и среднее по всем данным баланса клиентов и убедились, что они немного отличаются, в связи с чем гипотеза была принята, но не на всех уровнях значимости."
      ],
      "metadata": {
        "id": "QOdSILDKdFIq"
      }
    },
    {
      "cell_type": "markdown",
      "source": [
        "***2) Двухвыборочная t:***"
      ],
      "metadata": {
        "id": "6bEcuzpceinM"
      }
    },
    {
      "cell_type": "markdown",
      "source": [
        "Основная гипотеза H0: Средний возраст клиентов, покинувших банк, равен среднему возрасту людей, которые остались.\n",
        "\n",
        "Альтернативная гипотеза H1: Средний возраст клиентов, покинувших банк, не равен среднему возрасту людей, которые остались."
      ],
      "metadata": {
        "id": "3ygDOe1iev77"
      }
    },
    {
      "cell_type": "code",
      "source": [
        "a = np.array(data[(data['Exited'] == 0)]['Age'])\n",
        "b = np.array(data[(data['Exited'] == 1)]['Age'])\n",
        "\n",
        "result = stats.ttest_ind(a=a,  #выборка 2\n",
        "                         b=b, #выборка 1\n",
        "                         equal_var=False)\n",
        "\n",
        "print(result.pvalue > 0.1)    #уровень значимости 10%\n",
        "print(result.pvalue > 0.05)   #уровень значимости 5%\n",
        "print(result.pvalue > 0.01)   #уровень значимости 1%\n",
        "\n",
        "#отвергнута: средний возраст отличается"
      ],
      "metadata": {
        "colab": {
          "base_uri": "https://localhost:8080/"
        },
        "id": "x-F7RUk_eZQ_",
        "outputId": "14017fb7-f765-4d0f-c199-041f1832229e"
      },
      "execution_count": null,
      "outputs": [
        {
          "output_type": "stream",
          "name": "stdout",
          "text": [
            "False\n",
            "False\n",
            "False\n"
          ]
        }
      ]
    },
    {
      "cell_type": "markdown",
      "source": [
        "Основная гипотеза отвергается."
      ],
      "metadata": {
        "id": "N2fc_vJZrYIs"
      }
    },
    {
      "cell_type": "code",
      "source": [
        "print('Средний возраст клиентов, покинувших банк:', np.mean(a))\n",
        "print('Средний возраст клиентов, которые остались клиентами банка:', np.mean(b))"
      ],
      "metadata": {
        "colab": {
          "base_uri": "https://localhost:8080/"
        },
        "id": "ibvc3_Eco_L2",
        "outputId": "bc467c11-9d5e-4ee2-8996-bd7fe049f1f0"
      },
      "execution_count": null,
      "outputs": [
        {
          "output_type": "stream",
          "name": "stdout",
          "text": [
            "Средний возраст клиентов, покинувших банк: 36.08919696573372\n",
            "Средний возраст клиентов, которые остались клиентами банка: 43.791332263242374\n"
          ]
        }
      ]
    },
    {
      "cell_type": "markdown",
      "source": [
        "Мы вывели средний возраст клиентов, покинувших банк и средний возраст клиентов, которые остались и убедились, что возраста клиентов отличаются, следовательно гипотеза отвергнута."
      ],
      "metadata": {
        "id": "LJlReblyffZJ"
      }
    },
    {
      "cell_type": "markdown",
      "source": [
        "Значит, средний возраст клиентов, которые остались, выше, чем средний возраст клиентов, которые покинули банк. Получается на основе этого делаем вывод, что банку, с которым мы работаем, стоит ориентироваться на более старшую возрастную группу, чтобы повысить сохраняемость клиентов."
      ],
      "metadata": {
        "id": "hhC7FAvpkZkN"
      }
    },
    {
      "cell_type": "markdown",
      "source": [
        "**3) Хи-квадрат:**"
      ],
      "metadata": {
        "id": "HngZzWLSsJCT"
      }
    },
    {
      "cell_type": "markdown",
      "source": [
        "Основная гипотеза H0: Активность клиента не влияет на то, остался он в банке или покинул его.\n",
        "\n",
        "Альтернативная гипотеза H1: Активность клиента влияет на то, остался он в банке или покинул его."
      ],
      "metadata": {
        "id": "VJLfDWEJsZyf"
      }
    },
    {
      "cell_type": "code",
      "source": [
        "ie = pd.DataFrame()\n",
        "ie.index = ['Is active member', 'Is not active member']\n",
        "ie['Exited'] = [data[(data['IsActiveMember'] == 1) & (data['Exited'] == 1)].shape[0], data[(data['IsActiveMember'] == 0) & (data['Exited'] == 1)].shape[0]]\n",
        "ie['Stayed'] = [data[(data['IsActiveMember'] == 1) & (data['Exited'] == 0)].shape[0], data[(data['IsActiveMember'] == 0) & (data['Exited'] == 0)].shape[0]]\n",
        "ie"
      ],
      "metadata": {
        "colab": {
          "base_uri": "https://localhost:8080/",
          "height": 112
        },
        "id": "nF1YUmhOiA5i",
        "outputId": "01c87104-da5b-4386-c00e-93294cc31b0e"
      },
      "execution_count": null,
      "outputs": [
        {
          "output_type": "execute_result",
          "data": {
            "text/plain": [
              "                      Exited  Stayed\n",
              "Is active member         669    4114\n",
              "Is not active member    1200    3532"
            ],
            "text/html": [
              "\n",
              "  <div id=\"df-302872b9-4239-46db-91ed-ad866ea29b6f\" class=\"colab-df-container\">\n",
              "    <div>\n",
              "<style scoped>\n",
              "    .dataframe tbody tr th:only-of-type {\n",
              "        vertical-align: middle;\n",
              "    }\n",
              "\n",
              "    .dataframe tbody tr th {\n",
              "        vertical-align: top;\n",
              "    }\n",
              "\n",
              "    .dataframe thead th {\n",
              "        text-align: right;\n",
              "    }\n",
              "</style>\n",
              "<table border=\"1\" class=\"dataframe\">\n",
              "  <thead>\n",
              "    <tr style=\"text-align: right;\">\n",
              "      <th></th>\n",
              "      <th>Exited</th>\n",
              "      <th>Stayed</th>\n",
              "    </tr>\n",
              "  </thead>\n",
              "  <tbody>\n",
              "    <tr>\n",
              "      <th>Is active member</th>\n",
              "      <td>669</td>\n",
              "      <td>4114</td>\n",
              "    </tr>\n",
              "    <tr>\n",
              "      <th>Is not active member</th>\n",
              "      <td>1200</td>\n",
              "      <td>3532</td>\n",
              "    </tr>\n",
              "  </tbody>\n",
              "</table>\n",
              "</div>\n",
              "    <div class=\"colab-df-buttons\">\n",
              "\n",
              "  <div class=\"colab-df-container\">\n",
              "    <button class=\"colab-df-convert\" onclick=\"convertToInteractive('df-302872b9-4239-46db-91ed-ad866ea29b6f')\"\n",
              "            title=\"Convert this dataframe to an interactive table.\"\n",
              "            style=\"display:none;\">\n",
              "\n",
              "  <svg xmlns=\"http://www.w3.org/2000/svg\" height=\"24px\" viewBox=\"0 -960 960 960\">\n",
              "    <path d=\"M120-120v-720h720v720H120Zm60-500h600v-160H180v160Zm220 220h160v-160H400v160Zm0 220h160v-160H400v160ZM180-400h160v-160H180v160Zm440 0h160v-160H620v160ZM180-180h160v-160H180v160Zm440 0h160v-160H620v160Z\"/>\n",
              "  </svg>\n",
              "    </button>\n",
              "\n",
              "  <style>\n",
              "    .colab-df-container {\n",
              "      display:flex;\n",
              "      gap: 12px;\n",
              "    }\n",
              "\n",
              "    .colab-df-convert {\n",
              "      background-color: #E8F0FE;\n",
              "      border: none;\n",
              "      border-radius: 50%;\n",
              "      cursor: pointer;\n",
              "      display: none;\n",
              "      fill: #1967D2;\n",
              "      height: 32px;\n",
              "      padding: 0 0 0 0;\n",
              "      width: 32px;\n",
              "    }\n",
              "\n",
              "    .colab-df-convert:hover {\n",
              "      background-color: #E2EBFA;\n",
              "      box-shadow: 0px 1px 2px rgba(60, 64, 67, 0.3), 0px 1px 3px 1px rgba(60, 64, 67, 0.15);\n",
              "      fill: #174EA6;\n",
              "    }\n",
              "\n",
              "    .colab-df-buttons div {\n",
              "      margin-bottom: 4px;\n",
              "    }\n",
              "\n",
              "    [theme=dark] .colab-df-convert {\n",
              "      background-color: #3B4455;\n",
              "      fill: #D2E3FC;\n",
              "    }\n",
              "\n",
              "    [theme=dark] .colab-df-convert:hover {\n",
              "      background-color: #434B5C;\n",
              "      box-shadow: 0px 1px 3px 1px rgba(0, 0, 0, 0.15);\n",
              "      filter: drop-shadow(0px 1px 2px rgba(0, 0, 0, 0.3));\n",
              "      fill: #FFFFFF;\n",
              "    }\n",
              "  </style>\n",
              "\n",
              "    <script>\n",
              "      const buttonEl =\n",
              "        document.querySelector('#df-302872b9-4239-46db-91ed-ad866ea29b6f button.colab-df-convert');\n",
              "      buttonEl.style.display =\n",
              "        google.colab.kernel.accessAllowed ? 'block' : 'none';\n",
              "\n",
              "      async function convertToInteractive(key) {\n",
              "        const element = document.querySelector('#df-302872b9-4239-46db-91ed-ad866ea29b6f');\n",
              "        const dataTable =\n",
              "          await google.colab.kernel.invokeFunction('convertToInteractive',\n",
              "                                                    [key], {});\n",
              "        if (!dataTable) return;\n",
              "\n",
              "        const docLinkHtml = 'Like what you see? Visit the ' +\n",
              "          '<a target=\"_blank\" href=https://colab.research.google.com/notebooks/data_table.ipynb>data table notebook</a>'\n",
              "          + ' to learn more about interactive tables.';\n",
              "        element.innerHTML = '';\n",
              "        dataTable['output_type'] = 'display_data';\n",
              "        await google.colab.output.renderOutput(dataTable, element);\n",
              "        const docLink = document.createElement('div');\n",
              "        docLink.innerHTML = docLinkHtml;\n",
              "        element.appendChild(docLink);\n",
              "      }\n",
              "    </script>\n",
              "  </div>\n",
              "\n",
              "\n",
              "<div id=\"df-ebbb7c2d-9522-4cc5-bbdf-2427857c8e76\">\n",
              "  <button class=\"colab-df-quickchart\" onclick=\"quickchart('df-ebbb7c2d-9522-4cc5-bbdf-2427857c8e76')\"\n",
              "            title=\"Suggest charts\"\n",
              "            style=\"display:none;\">\n",
              "\n",
              "<svg xmlns=\"http://www.w3.org/2000/svg\" height=\"24px\"viewBox=\"0 0 24 24\"\n",
              "     width=\"24px\">\n",
              "    <g>\n",
              "        <path d=\"M19 3H5c-1.1 0-2 .9-2 2v14c0 1.1.9 2 2 2h14c1.1 0 2-.9 2-2V5c0-1.1-.9-2-2-2zM9 17H7v-7h2v7zm4 0h-2V7h2v10zm4 0h-2v-4h2v4z\"/>\n",
              "    </g>\n",
              "</svg>\n",
              "  </button>\n",
              "\n",
              "<style>\n",
              "  .colab-df-quickchart {\n",
              "      --bg-color: #E8F0FE;\n",
              "      --fill-color: #1967D2;\n",
              "      --hover-bg-color: #E2EBFA;\n",
              "      --hover-fill-color: #174EA6;\n",
              "      --disabled-fill-color: #AAA;\n",
              "      --disabled-bg-color: #DDD;\n",
              "  }\n",
              "\n",
              "  [theme=dark] .colab-df-quickchart {\n",
              "      --bg-color: #3B4455;\n",
              "      --fill-color: #D2E3FC;\n",
              "      --hover-bg-color: #434B5C;\n",
              "      --hover-fill-color: #FFFFFF;\n",
              "      --disabled-bg-color: #3B4455;\n",
              "      --disabled-fill-color: #666;\n",
              "  }\n",
              "\n",
              "  .colab-df-quickchart {\n",
              "    background-color: var(--bg-color);\n",
              "    border: none;\n",
              "    border-radius: 50%;\n",
              "    cursor: pointer;\n",
              "    display: none;\n",
              "    fill: var(--fill-color);\n",
              "    height: 32px;\n",
              "    padding: 0;\n",
              "    width: 32px;\n",
              "  }\n",
              "\n",
              "  .colab-df-quickchart:hover {\n",
              "    background-color: var(--hover-bg-color);\n",
              "    box-shadow: 0 1px 2px rgba(60, 64, 67, 0.3), 0 1px 3px 1px rgba(60, 64, 67, 0.15);\n",
              "    fill: var(--button-hover-fill-color);\n",
              "  }\n",
              "\n",
              "  .colab-df-quickchart-complete:disabled,\n",
              "  .colab-df-quickchart-complete:disabled:hover {\n",
              "    background-color: var(--disabled-bg-color);\n",
              "    fill: var(--disabled-fill-color);\n",
              "    box-shadow: none;\n",
              "  }\n",
              "\n",
              "  .colab-df-spinner {\n",
              "    border: 2px solid var(--fill-color);\n",
              "    border-color: transparent;\n",
              "    border-bottom-color: var(--fill-color);\n",
              "    animation:\n",
              "      spin 1s steps(1) infinite;\n",
              "  }\n",
              "\n",
              "  @keyframes spin {\n",
              "    0% {\n",
              "      border-color: transparent;\n",
              "      border-bottom-color: var(--fill-color);\n",
              "      border-left-color: var(--fill-color);\n",
              "    }\n",
              "    20% {\n",
              "      border-color: transparent;\n",
              "      border-left-color: var(--fill-color);\n",
              "      border-top-color: var(--fill-color);\n",
              "    }\n",
              "    30% {\n",
              "      border-color: transparent;\n",
              "      border-left-color: var(--fill-color);\n",
              "      border-top-color: var(--fill-color);\n",
              "      border-right-color: var(--fill-color);\n",
              "    }\n",
              "    40% {\n",
              "      border-color: transparent;\n",
              "      border-right-color: var(--fill-color);\n",
              "      border-top-color: var(--fill-color);\n",
              "    }\n",
              "    60% {\n",
              "      border-color: transparent;\n",
              "      border-right-color: var(--fill-color);\n",
              "    }\n",
              "    80% {\n",
              "      border-color: transparent;\n",
              "      border-right-color: var(--fill-color);\n",
              "      border-bottom-color: var(--fill-color);\n",
              "    }\n",
              "    90% {\n",
              "      border-color: transparent;\n",
              "      border-bottom-color: var(--fill-color);\n",
              "    }\n",
              "  }\n",
              "</style>\n",
              "\n",
              "  <script>\n",
              "    async function quickchart(key) {\n",
              "      const quickchartButtonEl =\n",
              "        document.querySelector('#' + key + ' button');\n",
              "      quickchartButtonEl.disabled = true;  // To prevent multiple clicks.\n",
              "      quickchartButtonEl.classList.add('colab-df-spinner');\n",
              "      try {\n",
              "        const charts = await google.colab.kernel.invokeFunction(\n",
              "            'suggestCharts', [key], {});\n",
              "      } catch (error) {\n",
              "        console.error('Error during call to suggestCharts:', error);\n",
              "      }\n",
              "      quickchartButtonEl.classList.remove('colab-df-spinner');\n",
              "      quickchartButtonEl.classList.add('colab-df-quickchart-complete');\n",
              "    }\n",
              "    (() => {\n",
              "      let quickchartButtonEl =\n",
              "        document.querySelector('#df-ebbb7c2d-9522-4cc5-bbdf-2427857c8e76 button');\n",
              "      quickchartButtonEl.style.display =\n",
              "        google.colab.kernel.accessAllowed ? 'block' : 'none';\n",
              "    })();\n",
              "  </script>\n",
              "</div>\n",
              "    </div>\n",
              "  </div>\n"
            ],
            "application/vnd.google.colaboratory.intrinsic+json": {
              "type": "dataframe",
              "variable_name": "ie",
              "summary": "{\n  \"name\": \"ie\",\n  \"rows\": 2,\n  \"fields\": [\n    {\n      \"column\": \"Exited\",\n      \"properties\": {\n        \"dtype\": \"number\",\n        \"std\": 375,\n        \"min\": 669,\n        \"max\": 1200,\n        \"num_unique_values\": 2,\n        \"samples\": [\n          1200,\n          669\n        ],\n        \"semantic_type\": \"\",\n        \"description\": \"\"\n      }\n    },\n    {\n      \"column\": \"Stayed\",\n      \"properties\": {\n        \"dtype\": \"number\",\n        \"std\": 411,\n        \"min\": 3532,\n        \"max\": 4114,\n        \"num_unique_values\": 2,\n        \"samples\": [\n          3532,\n          4114\n        ],\n        \"semantic_type\": \"\",\n        \"description\": \"\"\n      }\n    }\n  ]\n}"
            }
          },
          "metadata": {},
          "execution_count": 47
        }
      ]
    },
    {
      "cell_type": "code",
      "source": [
        "result = stats.chi2_contingency(ie.values, correction = False)\n",
        "\n",
        "print(result.pvalue > 0.1)    #уровень значимости 10%\n",
        "print(result.pvalue > 0.05)   #уровень значимости 5%\n",
        "print(result.pvalue > 0.01)  #уровень значимости 1%\n",
        "\n",
        "#гипотеза отвергнута -> активность влияет"
      ],
      "metadata": {
        "id": "Ka8AToGqnawE",
        "colab": {
          "base_uri": "https://localhost:8080/"
        },
        "outputId": "d143138d-7801-40fa-dff3-58f3cd3709b7"
      },
      "execution_count": null,
      "outputs": [
        {
          "output_type": "stream",
          "name": "stdout",
          "text": [
            "False\n",
            "False\n",
            "False\n"
          ]
        }
      ]
    },
    {
      "cell_type": "markdown",
      "source": [
        "Основная гипотеза отвергнута, активность клиента влияет."
      ],
      "metadata": {
        "id": "8yTT4eDMtMcY"
      }
    },
    {
      "cell_type": "code",
      "source": [
        "print('Корреляция активности клиентов и того, покинули ли они банк:', data['IsActiveMember'].corr(data['Exited']))"
      ],
      "metadata": {
        "colab": {
          "base_uri": "https://localhost:8080/"
        },
        "id": "QW6eRoXTn2pk",
        "outputId": "8277bfc0-e611-4b3f-af64-6bdcaa39825f"
      },
      "execution_count": null,
      "outputs": [
        {
          "output_type": "stream",
          "name": "stdout",
          "text": [
            "Корреляция активности клиентов и того, покинули ли они банк: -0.1431185620451489\n"
          ]
        }
      ]
    },
    {
      "cell_type": "markdown",
      "source": [
        "Корреляция есть, значит активность клиента влияет."
      ],
      "metadata": {
        "id": "4_zUwx_rtzcb"
      }
    },
    {
      "cell_type": "markdown",
      "source": [
        "Благодаря этому банк может провести статистический анализ, ориентируясь на активность клиента. Чем активнее клиент, тем выше шанс, что он продолжит работать с данным банком. Значит банк должен отслеживать данную область, предлагать какие-то бонусы за активное участие клиентов, чтобы поддерживать стабильную активность."
      ],
      "metadata": {
        "id": "71oy88XpknnW"
      }
    },
    {
      "cell_type": "markdown",
      "source": [
        "**Часть 3**"
      ],
      "metadata": {
        "id": "30SDTZdqQRRz"
      }
    },
    {
      "cell_type": "markdown",
      "source": [
        "Основное задание:"
      ],
      "metadata": {
        "id": "0KW1KiKIcEmn"
      }
    },
    {
      "cell_type": "markdown",
      "source": [
        "Мы взяли в качестве модели логистическую регрессию:\n",
        "\n",
        "Разделим на обучающую и тестовую выборки, пронормируем данные и выведем точность на тренировочной и обучающей выборках:\n",
        "\n",
        "(Мы взяли 4 признака: возраст, баланс, активность, количество продуктов, так как у них наибольшая по модулю корреляция с целевой переменной)"
      ],
      "metadata": {
        "id": "p1890xlZcdsl"
      }
    },
    {
      "cell_type": "code",
      "source": [
        "from sklearn.model_selection import train_test_split\n",
        "from sklearn.preprocessing import StandardScaler\n",
        "\n",
        "X = data[['Age', 'Balance', 'IsActiveMember', 'NumOfProducts']]\n",
        "y = data['Exited']\n",
        "\n",
        "X_train, X_test, y_train, y_test = train_test_split(X, y, test_size=0.3, random_state=np.random.seed(42))\n",
        "\n",
        "scaler = StandardScaler()\n",
        "X_train = scaler.fit_transform(X_train)\n",
        "X_test = scaler.transform(X_test)"
      ],
      "metadata": {
        "id": "kQ4_2K2kQP4O"
      },
      "execution_count": null,
      "outputs": []
    },
    {
      "cell_type": "code",
      "source": [
        "from sklearn.linear_model import LogisticRegression\n",
        "from sklearn.metrics import accuracy_score\n",
        "\n",
        "logreg = LogisticRegression()\n",
        "logreg.fit(X_train, y_train)\n",
        "\n",
        "y_train_pred = logreg.predict(X_train)\n",
        "y_pred = logreg.predict(X_test)\n",
        "\n",
        "print('Accuracy on Train:', accuracy_score(y_train, y_train_pred))\n",
        "print('Accuracy on Test:', accuracy_score(y_test, y_pred))"
      ],
      "metadata": {
        "id": "IgxHZSdtqjr2",
        "colab": {
          "base_uri": "https://localhost:8080/"
        },
        "outputId": "456142a8-f150-4cde-971e-18a9311faff1"
      },
      "execution_count": null,
      "outputs": [
        {
          "output_type": "stream",
          "name": "stdout",
          "text": [
            "Accuracy on Train: 0.8265765765765766\n",
            "Accuracy on Test: 0.8238178633975481\n"
          ]
        }
      ]
    },
    {
      "cell_type": "markdown",
      "source": [
        "Вывод: на тестовой выборке у нас получилась точность модели 82,38%, и на тренировочной почти такая же: 82,65%, так что можем сделать вывод, что логистическая регрессия работает хорошо вне зависимости от того, обучалась она на проверяемых данных или нет. Значит, основываясь на рассматриваемых признаках, можно сделать предсказание \"уйдёт ли человек из банка\" с хорошей точностью."
      ],
      "metadata": {
        "id": "p72yjei_lvCN"
      }
    },
    {
      "cell_type": "code",
      "source": [
        "y_simple_pred = np.array([0 for i in range(len(y_test))])\n",
        "y_train_simple_pred = np.array([0 for i in range(len(y_train))])\n",
        "\n",
        "print('Accuracy on Train:', accuracy_score(y_train, y_train_simple_pred))\n",
        "print('Accuracy on Test:', accuracy_score(y_test, y_simple_pred))"
      ],
      "metadata": {
        "colab": {
          "base_uri": "https://localhost:8080/"
        },
        "id": "EygA4pwHOsRY",
        "outputId": "41663289-a3ed-428a-e225-5f56e9e717af"
      },
      "execution_count": null,
      "outputs": [
        {
          "output_type": "stream",
          "name": "stdout",
          "text": [
            "Accuracy on Train: 0.8066066066066067\n",
            "Accuracy on Test: 0.7964973730297723\n"
          ]
        }
      ]
    },
    {
      "cell_type": "markdown",
      "source": [
        "Мы также сделали модель, которая предсказывает для каждого варианта ответ 0, потому что это самый \"популярный\" класс. То есть говорим, что все клиенты не покинули банк, и смотрим насколько это точно. Точность у нас получилась довольно хорошая: 80% в среднем. Но точность на логистической регрессии вышла лучше, значит модель хорошая."
      ],
      "metadata": {
        "id": "GdsnRlsxdFnT"
      }
    },
    {
      "cell_type": "markdown",
      "source": [
        "Дополнительное задание:\n",
        "\n",
        "Когда мы только начинали делать это задание, мы делали всё на одной выборке, из-за чего получилась ситуация, что Бэггинг и Случайный лес сильно переобучились и выдавали точность в примерно 97% (это было ожидаемо, так как данные модели работают на решающих деревьях, которые сильно склонны к переобучению). Тогда мы решили разделить выборку на обучающую и тестовую (что мы и сделали выше в основном задании). Благодаря этому получили реалистичную точность на тестовой выборке примерно в 82% и 85% (см. ниже). На тренировочной выборке точность получилась высокая, особенно у Бэггинга, однако Случайный лес выдал довольно адекватную точность благодаря ограничивающим гиперпараметрам.\n",
        "\n",
        "1) Бэггинг"
      ],
      "metadata": {
        "id": "O2yi0p74cJP_"
      }
    },
    {
      "cell_type": "code",
      "source": [
        "from sklearn.ensemble import BaggingClassifier\n",
        "\n",
        "bagging = BaggingClassifier(n_estimators=200)\n",
        "bagging.fit(X_train, y_train)\n",
        "\n",
        "y_train_pred = bagging.predict(X_train)\n",
        "y_pred = bagging.predict(X_test)\n",
        "\n",
        "print('Accuracy on Train:', accuracy_score(y_train, y_train_pred))\n",
        "print('Accuracy on Test:', accuracy_score(y_test, y_pred))"
      ],
      "metadata": {
        "colab": {
          "base_uri": "https://localhost:8080/"
        },
        "id": "bW6RE8UDQwfb",
        "outputId": "572aaaa7-6ba2-48f4-b10a-8b1cda869140"
      },
      "execution_count": null,
      "outputs": [
        {
          "output_type": "stream",
          "name": "stdout",
          "text": [
            "Accuracy on Train: 0.972072072072072\n",
            "Accuracy on Test: 0.8203152364273205\n"
          ]
        }
      ]
    },
    {
      "cell_type": "markdown",
      "source": [
        "2) Случайный лес"
      ],
      "metadata": {
        "id": "QdGWxo7zeguz"
      }
    },
    {
      "cell_type": "code",
      "source": [
        "from sklearn.ensemble import RandomForestClassifier\n",
        "\n",
        "rf = RandomForestClassifier(n_estimators=100, max_depth=9, min_samples_leaf=5) #гиперпараметры выбирали наугад, пока не добились улучшения качества\n",
        "rf.fit(X_train, y_train)\n",
        "\n",
        "y_train_pred = rf.predict(X_train)\n",
        "y_pred = rf.predict(X_test)\n",
        "\n",
        "print('Accuracy on Train:', accuracy_score(y_train, y_train_pred))\n",
        "print('Accuracy on Test:', accuracy_score(y_test, y_pred))"
      ],
      "metadata": {
        "colab": {
          "base_uri": "https://localhost:8080/"
        },
        "id": "2RBShJYFQk2b",
        "outputId": "379428d7-ebe5-4579-b589-af8647a08669"
      },
      "execution_count": null,
      "outputs": [
        {
          "output_type": "stream",
          "name": "stdout",
          "text": [
            "Accuracy on Train: 0.8723723723723724\n",
            "Accuracy on Test: 0.8462346760070053\n"
          ]
        }
      ]
    },
    {
      "cell_type": "markdown",
      "source": [
        "Вывод:\n",
        "\n",
        "У нас точность на Бэггинге и Случайном лесе получилось лучше, чем на логистической регрессии. Во многом за счёт того, что данные модели являются нелинейными, в отличии от логистической регрессии, и также они определяют нелинейные зависимости. В нашем датасете среди признаков была несильно высокая корреляция (мы взяли самые большие корреляции, но даже они меньше 0,36). И поэтому модели, которые учитывают нелинейные зависимости, сработали получше.\n",
        "\n",
        "Чтобы улучшить точность, мы добавили гиперпараметры в Случайный лес, которые ограничивают глубину и количество листьев в решаюших деревьях Случайного леса. Поэтому он показал самый лучший результат - 85%.\n",
        "\n",
        "В связи с особенностями нашего датасета, есть ряд внешних факторов, не включенных в него, которые могут влиять на целевую переменную (\"ушёл человек из банка или нет\"), поэтому точность 85% - это отличный результат."
      ],
      "metadata": {
        "id": "s_Y3jFZuRmHY"
      }
    }
  ],
  "metadata": {
    "colab": {
      "provenance": []
    },
    "kernelspec": {
      "display_name": "Python 3",
      "name": "python3"
    },
    "language_info": {
      "name": "python"
    }
  },
  "nbformat": 4,
  "nbformat_minor": 0
}